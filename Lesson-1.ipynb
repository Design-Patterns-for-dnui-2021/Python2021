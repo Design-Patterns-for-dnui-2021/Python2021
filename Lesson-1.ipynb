{
 "cells": [
  {
   "cell_type": "code",
   "execution_count": 6,
   "metadata": {
    "scrolled": true
   },
   "outputs": [
    {
     "name": "stdout",
     "output_type": "stream",
     "text": [
      "Hello world1\n"
     ]
    }
   ],
   "source": [
    "print(\"Hello world1\")  \n",
    "#ctrl + enter :the function is run the code \n",
    "#shift + enter :first run the code, in the same time, jump to the next code block\n",
    "#alt + enter :insert a new block to write the python code"
   ]
  },
  {
   "cell_type": "code",
   "execution_count": 8,
   "metadata": {},
   "outputs": [
    {
     "data": {
      "text/plain": [
       "'\\nabc\\ndefg\\nhigk\\nmno\\n'"
      ]
     },
     "execution_count": 8,
     "metadata": {},
     "output_type": "execute_result"
    }
   ],
   "source": [
    "# annotation, If i want the code donot run for a signle line\n"
   ]
  },
  {
   "cell_type": "code",
   "execution_count": 11,
   "metadata": {},
   "outputs": [
    {
     "name": "stdout",
     "output_type": "stream",
     "text": [
      "   *\n",
      "  ***\n",
      "*******\n",
      "   |\n"
     ]
    }
   ],
   "source": [
    "print(\"   *\",\"  ***\",\"*******\",\"   |\",sep=\"\\n\")\n",
    "# put out a Christmas tree"
   ]
  },
  {
   "cell_type": "code",
   "execution_count": 30,
   "metadata": {},
   "outputs": [
    {
     "name": "stdout",
     "output_type": "stream",
     "text": [
      "<class 'float'>\n",
      "False\n",
      "True\n"
     ]
    }
   ],
   "source": [
    "#2. The basic data type :Number\n",
    "x1 = 1\n",
    "x2 = 10.0 #number\n",
    "#the defination of float is not the real number , it is much closer to this number\n",
    "print(type(x2))\n",
    "print((0.1 + 0.1+ 0.1+ 0.1+ 0.1+ 0.1+ 0.1+ 0.1+ 0.1)== 0.9)     #False\n",
    "#if we want to make a judgement (0.1 + 0.1+ 0.1+ 0.1+ 0.1+ 0.1+ 0.1+ 0.1+ 0.1) and 0.9\n",
    "print(0.9-(0.1 + 0.1+ 0.1+ 0.1+ 0.1+ 0.1+ 0.1+ 0.1+ 0.1) < 10 **-9 )  #True"
   ]
  },
  {
   "cell_type": "code",
   "execution_count": 39,
   "metadata": {},
   "outputs": [
    {
     "name": "stdout",
     "output_type": "stream",
     "text": [
      "False False\n",
      "0 <class 'bool'>\n"
     ]
    }
   ],
   "source": [
    "#3. The basic data type :BOOL\n",
    "x3 = False == 1 # the real value of False is 0 in number(False == 0 )\n",
    "x4 = True == 0  # the real value of True is 1 in number(True ==1 )\n",
    "print(x3,x4)\n",
    "print(x3 * 5, type(x4))  # calculation"
   ]
  },
  {
   "cell_type": "code",
   "execution_count": 47,
   "metadata": {},
   "outputs": [
    {
     "name": "stdout",
     "output_type": "stream",
     "text": [
      "[['Jack', 'Bob', 'Kite'], 1, 2, 3, 'a', 'b', 'c', [1, 2, 3]]\n",
      "3\n",
      "Kite\n",
      "[1, 2, 3]\n"
     ]
    }
   ],
   "source": [
    "#3. The basic data type :List\n",
    "#List is a range of data, inside of there are many kinds of data type,\n",
    "#such as string,number,list\n",
    "lst = [1,2,3,4]\n",
    "lst1 = [\"a\",\"b\",\"c\"]\n",
    "lst2 = [[\"Jack\",\"Bob\",\"Kite\"],1,2,3,\"a\",\"b\",\"c\",[1,2,3]]\n",
    "print(lst2)\n",
    "#In list we can get the number by position, we call the position as index,\n",
    "#If we want to get 3, we can write like lst[2]\n",
    "print(lst[2]) \n",
    "print(lst2[0][2])  #we need add another square bracket [] \n",
    "print(lst2[7])"
   ]
  },
  {
   "cell_type": "code",
   "execution_count": 52,
   "metadata": {},
   "outputs": [
    {
     "name": "stdout",
     "output_type": "stream",
     "text": [
      "[1, 2, 100, 4]\n",
      "<class 'tuple'>\n"
     ]
    }
   ],
   "source": [
    "#4. The basic data type :Tuple\n",
    "#Tuple is also a range of data, but we can not change the value inside of it. \n",
    "#So Tuple is a spcial kind of List\n",
    "tup = (1,2,3,4)  # not square bracke\n",
    "tup1 = 1,2,3\n",
    "tup2 = 1, \n",
    "lis3 = [1,2,3,4]\n",
    "lis3[2] = 100\n",
    "#tup[2] = 100\n",
    "print(lis3)  # ctrl +enter\n",
    "print(type(tup))"
   ]
  },
  {
   "cell_type": "code",
   "execution_count": 54,
   "metadata": {},
   "outputs": [
    {
     "name": "stdout",
     "output_type": "stream",
     "text": [
      "{'name': 'Jack', 'age': 19, 'city': 'peak', 'hair': 'black'} <class 'dict'>\n"
     ]
    }
   ],
   "source": [
    "#4. The basic data type :Dict\n",
    "#Dict  is a pair of value, it is  key and  value.\n",
    "#the key and value is unordered, we can not sort it\n",
    "dic1 = {\"name\":\"Jack\",\"age\":19,\"city\":'peak',\"hair\":\"black\"}\n",
    "print(dic1,type(dic1)) "
   ]
  },
  {
   "cell_type": "code",
   "execution_count": 56,
   "metadata": {},
   "outputs": [
    {
     "name": "stdout",
     "output_type": "stream",
     "text": [
      "<class 'int'> <class 'float'> <class 'str'> <class 'int'>\n"
     ]
    }
   ],
   "source": [
    "val1 = 5 # int\n",
    "val2 = float(val1) #float\n",
    "val3 = str(val2)  #string  \n",
    "val4 = 5.5\n",
    "val5 = int(val4)  #change float to int\n",
    "print(type(val1),type(val2),type(val3),type(val5))"
   ]
  }
 ],
 "metadata": {
  "kernelspec": {
   "display_name": "Python 3",
   "language": "python",
   "name": "python3"
  },
  "language_info": {
   "codemirror_mode": {
    "name": "ipython",
    "version": 3
   },
   "file_extension": ".py",
   "mimetype": "text/x-python",
   "name": "python",
   "nbconvert_exporter": "python",
   "pygments_lexer": "ipython3",
   "version": "3.8.5"
  }
 },
 "nbformat": 4,
 "nbformat_minor": 4
}
