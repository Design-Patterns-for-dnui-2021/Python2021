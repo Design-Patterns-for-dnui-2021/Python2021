{
 "cells": [
  {
   "cell_type": "code",
   "execution_count": 7,
   "metadata": {},
   "outputs": [
    {
     "name": "stdout",
     "output_type": "stream",
     "text": [
      "info, the class I defined\n"
     ]
    },
    {
     "data": {
      "text/plain": [
       "7"
      ]
     },
     "execution_count": 7,
     "metadata": {},
     "output_type": "execute_result"
    }
   ],
   "source": [
    "class Student:   #OOP\n",
    "    def info(self,para1):\n",
    "        print(\"info, the class I defined\")#function body\n",
    "    def calc(self,param1,param2): \n",
    "        return param1+param2\n",
    "Jim =  Student() \n",
    "Jim.info(\"hello\")  #call the function\n",
    "Jim.calc(3,4)"
   ]
  },
  {
   "cell_type": "code",
   "execution_count": null,
   "metadata": {},
   "outputs": [],
   "source": []
  },
  {
   "cell_type": "code",
   "execution_count": null,
   "metadata": {},
   "outputs": [],
   "source": []
  },
  {
   "cell_type": "code",
   "execution_count": 27,
   "metadata": {},
   "outputs": [
    {
     "name": "stdout",
     "output_type": "stream",
     "text": [
      "__new__\n",
      "__init__\n"
     ]
    }
   ],
   "source": [
    "class People(object):\n",
    "   def __init__(self):\n",
    "       print(\"__init__\")\n",
    "   def __new__(cls, *args, **kwargs):   #__ new__ () usually returns an instance of this class,   change name to new1 \n",
    "       print(\"__new__\")\n",
    "       return object.__new__(cls, *args, **kwargs)\n",
    "Jim = People()\n"
   ]
  },
  {
   "cell_type": "code",
   "execution_count": null,
   "metadata": {},
   "outputs": [],
   "source": []
  },
  {
   "cell_type": "code",
   "execution_count": 34,
   "metadata": {},
   "outputs": [
    {
     "name": "stdout",
     "output_type": "stream",
     "text": [
      "3\n"
     ]
    }
   ],
   "source": [
    "#Write a Student Class that requires counter attribute . It can count the total number of students instantiated\n",
    "class Student:\n",
    "    count = 0  #class /instance\n",
    "    @classmethod\n",
    "    def __init__(cls):\n",
    "             cls.count +=1  #\n",
    "Jim = Student()     #instantiated\n",
    "Kate= Student()     #instantiated\n",
    "Join= Student()     #instantiated\n",
    "print(Student.count)"
   ]
  },
  {
   "cell_type": "markdown",
   "metadata": {},
   "source": []
  },
  {
   "cell_type": "code",
   "execution_count": 36,
   "metadata": {},
   "outputs": [
    {
     "data": {
      "text/plain": [
       "4"
      ]
     },
     "execution_count": 36,
     "metadata": {},
     "output_type": "execute_result"
    }
   ],
   "source": [
    "class Student:\n",
    "    counter = 0\n",
    "    \n",
    "    def __init__(self, x = 1):\n",
    "        Student.counter += x\n",
    "    \n",
    "Jim = Student()\n",
    "Jack = Student()\n",
    "Mimi = Student()\n",
    "Mimi1 = Student()\n",
    "Student.counter\n"
   ]
  },
  {
   "cell_type": "code",
   "execution_count": 48,
   "metadata": {},
   "outputs": [
    {
     "name": "stdout",
     "output_type": "stream",
     "text": [
      "----------0\n",
      "----------------\n",
      "----------------\n",
      "change3 is static method %s\n"
     ]
    }
   ],
   "source": [
    "class Demo_property:  \n",
    "    class_name = \"Demo_property_name\" \n",
    "    def __init__(self,x = 0):\n",
    "        self.x = x   \n",
    "        print(\"----------%s\"%self.x)\n",
    "    def info(self):\n",
    "        print(\"info, the class I defined\")\n",
    "    def change1(self,x):\n",
    "        self.x = x   \n",
    "        print(self.x)\n",
    "    @classmethod  #annotation, we can use cls to call the properities, methods\n",
    "    def chang2(cls,y): \n",
    "        print(\"----------------\") \n",
    "    @staticmethod #\n",
    "    def change3():\n",
    "        print(\"change3 is static method %s\")\n",
    "dpa = Demo_property()\n",
    "dpa.chang2('hello')\n",
    "Demo_property.chang2('hello')\n",
    "Demo_property.change3()"
   ]
  },
  {
   "cell_type": "code",
   "execution_count": 69,
   "metadata": {},
   "outputs": [
    {
     "name": "stdout",
     "output_type": "stream",
     "text": [
      "the color is white\n",
      "The current position is:(3, 2),and the color is\n",
      "use teetch and simle\n"
     ]
    }
   ],
   "source": [
    "class Dog:\n",
    "    def __init__(self,x=0,y=0,color='yellow'):\n",
    "        self.x = x\n",
    "        self.y = y\n",
    "        self.color = color\n",
    "        print(\"the color is %s\"%self.color)\n",
    "    def crawl(self,x,y):\n",
    "        self.x = x\n",
    "        self.y = y\n",
    "        print(\"The current position is:(%d, %d),and the color is\"%(self.x,self.y))\n",
    "    def attack(self):\n",
    "        print('use teetch')\n",
    "class Haski(Dog):  \n",
    "    def attack(self):  #\n",
    "        print('use teetch and simle')\n",
    "haski = Haski(color='white')  #color='white'\n",
    "haski.crawl(3,2)\n",
    "haski.attack()"
   ]
  },
  {
   "cell_type": "code",
   "execution_count": 70,
   "metadata": {},
   "outputs": [
    {
     "name": "stdout",
     "output_type": "stream",
     "text": [
      "1 1 1\n",
      "1 2 1\n",
      "3 2 3\n"
     ]
    }
   ],
   "source": [
    "class Parent(object):\n",
    "    x = 3  #class properity\n",
    "class Child1(Parent):  #Subclass\n",
    "    pass  \n",
    "class Child2(Parent):  #Subclass\n",
    "    pass\n",
    "print(Parent.x, Child1.x, Child2.x) \n",
    "Child1.x = 2\n",
    "print(Parent.x, Child1.x =2, Child2.x) #Child1.x =2\n",
    "Parent.x = 3\n",
    "print(Parent.x, Child1.x, Child2.x)"
   ]
  },
  {
   "cell_type": "markdown",
   "metadata": {},
   "source": []
  },
  {
   "cell_type": "code",
   "execution_count": 71,
   "metadata": {},
   "outputs": [
    {
     "name": "stdout",
     "output_type": "stream",
     "text": [
      "(100, 200)\n",
      "[[255 255 255 ... 255 255 255]\n",
      " [255 255 255 ... 255 255 255]\n",
      " [255 255 255 ... 255 255 255]\n",
      " ...\n",
      " [255 255 255 ... 255 255 255]\n",
      " [255 255 255 ... 255 255 255]\n",
      " [255 255 255 ... 255 255 255]]\n",
      "16\n"
     ]
    }
   ],
   "source": [
    "#!/usr/bin/env python\n",
    "# coding: utf-8\n",
    "\n",
    "import numpy as np\n",
    "from PIL import Image\n",
    "\n",
    "if __name__ == '__main__':\n",
    "    image_file = '3.jpg'\n",
    "    height = 100#change image height to 100\n",
    "\n",
    "    img = Image.open(image_file)\n",
    "    img_width, img_height = img.size\n",
    "    width = 2 * height * img_width // img_height    \n",
    "    img = img.resize((width, height), Image.ANTIALIAS)#change image size\n",
    "    pixels = np.array(img.convert('L')) \n",
    "    print(pixels.shape)\n",
    "    print(pixels)\n",
    "    chars = \"MNHQ$OC?7>!:-;. \" #256 color,M means 0-15，N means 16-31\n",
    "    N = len(chars)\n",
    "    step = 256 // N\n",
    "    print(N)\n",
    "    result = ''\n",
    "    for i in range(height):\n",
    "        for j in range(width):\n",
    "            result += chars[pixels[i][j] // step]                          \n",
    "        result += '\\n'\n",
    "    with open('text.txt', mode='w') as f:\n",
    "        f.write(result)"
   ]
  }
 ],
 "metadata": {
  "kernelspec": {
   "display_name": "Python 3",
   "language": "python",
   "name": "python3"
  },
  "language_info": {
   "codemirror_mode": {
    "name": "ipython",
    "version": 3
   },
   "file_extension": ".py",
   "mimetype": "text/x-python",
   "name": "python",
   "nbconvert_exporter": "python",
   "pygments_lexer": "ipython3",
   "version": "3.8.5"
  }
 },
 "nbformat": 4,
 "nbformat_minor": 4
}
