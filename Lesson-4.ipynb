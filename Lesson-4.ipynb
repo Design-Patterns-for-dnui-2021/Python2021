{
 "cells": [
  {
   "cell_type": "code",
   "execution_count": 5,
   "metadata": {},
   "outputs": [
    {
     "name": "stdout",
     "output_type": "stream",
     "text": [
      "The count is  0\n",
      "The count is  1\n",
      "The count is  2\n",
      "The count is  3\n",
      "The count is  4\n",
      "The count is  5\n",
      "The count is  6\n",
      "The count is  7\n",
      "The count is  8\n",
      "The count is  9\n",
      "Good bye 10\n"
     ]
    }
   ],
   "source": [
    "count = 0\n",
    "while count < 10:\n",
    "    print(\"The count is \",count)\n",
    "    count = count+1\n",
    "print(\"Good bye\",count)\n",
    "#  count < 10is a judgement statement, when the result is true. \n",
    "#It will get into the function body and countinue to run"
   ]
  },
  {
   "cell_type": "code",
   "execution_count": 7,
   "metadata": {},
   "outputs": [
    {
     "ename": "KeyboardInterrupt",
     "evalue": "Interrupted by user",
     "output_type": "error",
     "traceback": [
      "\u001b[1;31m---------------------------------------------------------------------------\u001b[0m",
      "\u001b[1;31mKeyboardInterrupt\u001b[0m                         Traceback (most recent call last)",
      "\u001b[1;32m<ipython-input-7-56d4745c0451>\u001b[0m in \u001b[0;36m<module>\u001b[1;34m\u001b[0m\n\u001b[0;32m      2\u001b[0m \u001b[0mvar\u001b[0m \u001b[1;33m=\u001b[0m\u001b[1;36m1\u001b[0m\u001b[1;33m\u001b[0m\u001b[1;33m\u001b[0m\u001b[0m\n\u001b[0;32m      3\u001b[0m \u001b[1;32mwhile\u001b[0m \u001b[0mvar\u001b[0m \u001b[1;33m==\u001b[0m \u001b[1;36m1\u001b[0m\u001b[1;33m:\u001b[0m\u001b[1;33m\u001b[0m\u001b[1;33m\u001b[0m\u001b[0m\n\u001b[1;32m----> 4\u001b[1;33m     \u001b[0mnum\u001b[0m \u001b[1;33m=\u001b[0m \u001b[0minput\u001b[0m\u001b[1;33m(\u001b[0m\u001b[1;34m'enter the number here'\u001b[0m\u001b[1;33m)\u001b[0m\u001b[1;33m\u001b[0m\u001b[1;33m\u001b[0m\u001b[0m\n\u001b[0m\u001b[0;32m      5\u001b[0m     \u001b[0mprint\u001b[0m\u001b[1;33m(\u001b[0m\u001b[1;34m'you entered '\u001b[0m\u001b[1;33m,\u001b[0m\u001b[0mnum\u001b[0m\u001b[1;33m)\u001b[0m\u001b[1;33m\u001b[0m\u001b[1;33m\u001b[0m\u001b[0m\n\u001b[0;32m      6\u001b[0m \u001b[1;33m\u001b[0m\u001b[0m\n",
      "\u001b[1;32mD:\\Software\\Programs\\Anaconda\\lib\\site-packages\\ipykernel\\kernelbase.py\u001b[0m in \u001b[0;36mraw_input\u001b[1;34m(self, prompt)\u001b[0m\n\u001b[0;32m    858\u001b[0m                 \u001b[1;34m\"raw_input was called, but this frontend does not support input requests.\"\u001b[0m\u001b[1;33m\u001b[0m\u001b[1;33m\u001b[0m\u001b[0m\n\u001b[0;32m    859\u001b[0m             )\n\u001b[1;32m--> 860\u001b[1;33m         return self._input_request(str(prompt),\n\u001b[0m\u001b[0;32m    861\u001b[0m             \u001b[0mself\u001b[0m\u001b[1;33m.\u001b[0m\u001b[0m_parent_ident\u001b[0m\u001b[1;33m,\u001b[0m\u001b[1;33m\u001b[0m\u001b[1;33m\u001b[0m\u001b[0m\n\u001b[0;32m    862\u001b[0m             \u001b[0mself\u001b[0m\u001b[1;33m.\u001b[0m\u001b[0m_parent_header\u001b[0m\u001b[1;33m,\u001b[0m\u001b[1;33m\u001b[0m\u001b[1;33m\u001b[0m\u001b[0m\n",
      "\u001b[1;32mD:\\Software\\Programs\\Anaconda\\lib\\site-packages\\ipykernel\\kernelbase.py\u001b[0m in \u001b[0;36m_input_request\u001b[1;34m(self, prompt, ident, parent, password)\u001b[0m\n\u001b[0;32m    902\u001b[0m             \u001b[1;32mexcept\u001b[0m \u001b[0mKeyboardInterrupt\u001b[0m\u001b[1;33m:\u001b[0m\u001b[1;33m\u001b[0m\u001b[1;33m\u001b[0m\u001b[0m\n\u001b[0;32m    903\u001b[0m                 \u001b[1;31m# re-raise KeyboardInterrupt, to truncate traceback\u001b[0m\u001b[1;33m\u001b[0m\u001b[1;33m\u001b[0m\u001b[1;33m\u001b[0m\u001b[0m\n\u001b[1;32m--> 904\u001b[1;33m                 \u001b[1;32mraise\u001b[0m \u001b[0mKeyboardInterrupt\u001b[0m\u001b[1;33m(\u001b[0m\u001b[1;34m\"Interrupted by user\"\u001b[0m\u001b[1;33m)\u001b[0m \u001b[1;32mfrom\u001b[0m \u001b[1;32mNone\u001b[0m\u001b[1;33m\u001b[0m\u001b[1;33m\u001b[0m\u001b[0m\n\u001b[0m\u001b[0;32m    905\u001b[0m             \u001b[1;32mexcept\u001b[0m \u001b[0mException\u001b[0m \u001b[1;32mas\u001b[0m \u001b[0me\u001b[0m\u001b[1;33m:\u001b[0m\u001b[1;33m\u001b[0m\u001b[1;33m\u001b[0m\u001b[0m\n\u001b[0;32m    906\u001b[0m                 \u001b[0mself\u001b[0m\u001b[1;33m.\u001b[0m\u001b[0mlog\u001b[0m\u001b[1;33m.\u001b[0m\u001b[0mwarning\u001b[0m\u001b[1;33m(\u001b[0m\u001b[1;34m\"Invalid Message:\"\u001b[0m\u001b[1;33m,\u001b[0m \u001b[0mexc_info\u001b[0m\u001b[1;33m=\u001b[0m\u001b[1;32mTrue\u001b[0m\u001b[1;33m)\u001b[0m\u001b[1;33m\u001b[0m\u001b[1;33m\u001b[0m\u001b[0m\n",
      "\u001b[1;31mKeyboardInterrupt\u001b[0m: Interrupted by user"
     ]
    }
   ],
   "source": [
    "# we must aviod infinite loop\n",
    "var =1\n",
    "while var == 1:\n",
    "    num = input('enter the number here')\n",
    "    print('you entered ',num)\n",
    "    "
   ]
  },
  {
   "cell_type": "code",
   "execution_count": 9,
   "metadata": {},
   "outputs": [
    {
     "name": "stdout",
     "output_type": "stream",
     "text": [
      "The count is greater than 10 11\n"
     ]
    }
   ],
   "source": [
    "#while-else === the same as if-else\n",
    "count = 11\n",
    "while count < 10:\n",
    "    print(\"The count is \",count)\n",
    "    count = count+1\n",
    "else:\n",
    "    print(\"The count is greater than 10\",count)"
   ]
  },
  {
   "cell_type": "code",
   "execution_count": 12,
   "metadata": {},
   "outputs": [
    {
     "name": "stdout",
     "output_type": "stream",
     "text": [
      "0\n",
      "2\n",
      "4\n",
      "6\n",
      "8\n"
     ]
    }
   ],
   "source": [
    "#Output all even number which is less than 10,you need to use while statement\n",
    "#2 4 6 8 \n",
    "i = 1\n",
    "while i<10:\n",
    "    i +=1\n",
    "    if i%2 ==0:\n",
    "        print(i)"
   ]
  },
  {
   "cell_type": "code",
   "execution_count": 15,
   "metadata": {},
   "outputs": [
    {
     "name": "stdout",
     "output_type": "stream",
     "text": [
      "5 10\n"
     ]
    }
   ],
   "source": [
    "s = 0\n",
    "n = 1\n",
    "while n > 0:\n",
    "    s = s+n\n",
    "    n = n+1\n",
    "    if(n == 5):\n",
    "        break\n",
    "        print('abc')\n",
    "print(n,s) \n",
    "# So break will terminate a loop\n"
   ]
  },
  {
   "cell_type": "code",
   "execution_count": 18,
   "metadata": {},
   "outputs": [
    {
     "name": "stdout",
     "output_type": "stream",
     "text": [
      "0 0\n",
      "0 1\n",
      "0 2\n",
      "0 3\n",
      "0 4\n",
      "1 0\n",
      "1 1\n",
      "1 2\n",
      "1 3\n",
      "1 4\n",
      "2 0\n",
      "2 1\n",
      "2 2\n",
      "2 3\n",
      "2 4\n",
      "3 0\n",
      "3 1\n",
      "3 2\n",
      "3 3\n",
      "3 4\n",
      "4 0\n",
      "4 1\n",
      "4 2\n",
      "4 3\n",
      "4 4\n",
      "5 0\n",
      "5 1\n",
      "5 2\n",
      "5 3\n",
      "5 4\n",
      "6 0\n",
      "6 1\n",
      "6 2\n",
      "6 3\n",
      "6 4\n",
      "7 0\n",
      "7 1\n",
      "7 2\n",
      "7 3\n",
      "7 4\n",
      "8 0\n",
      "8 1\n",
      "8 2\n",
      "8 3\n",
      "8 4\n",
      "9 0\n",
      "9 1\n",
      "9 2\n",
      "9 3\n",
      "9 4\n"
     ]
    }
   ],
   "source": [
    "s = 0#nested loop\n",
    "for  i in range(10): #i\n",
    "    for j in range(5):\n",
    "        print(i,j)\n",
    "        s = s + (i*j)\n",
    "    if s > 20:\n",
    "        break #break statement stop execution of the deepest loop\n",
    "        #and start executing the next l"
   ]
  },
  {
   "cell_type": "code",
   "execution_count": 21,
   "metadata": {},
   "outputs": [
    {
     "name": "stdout",
     "output_type": "stream",
     "text": [
      "it is even number 2\n"
     ]
    }
   ],
   "source": [
    "i = 1\n",
    "while i<10:\n",
    "    i +=1 # i =4\n",
    "    if i%2 ==0:\n",
    "        print(\"it is even number\",i)\n",
    "    else:  \n",
    "        continue#i =3\n",
    "# countinue tell the programme to skip the remaining statement of the current loop\n",
    "#and then proceed to the next cycle\n",
    "        print(\"it is odd number\",i)"
   ]
  },
  {
   "cell_type": "code",
   "execution_count": null,
   "metadata": {},
   "outputs": [],
   "source": []
  },
  {
   "cell_type": "code",
   "execution_count": 24,
   "metadata": {
    "scrolled": true
   },
   "outputs": [
    {
     "name": "stdout",
     "output_type": "stream",
     "text": [
      "the current letter is  w\n",
      "the current letter is  e\n",
      "the current letter is  l\n",
      "the current letter is  c\n",
      "the current letter is  o\n",
      "the current letter is m\n",
      "the current letter is  m\n",
      "the current letter is  e\n",
      "Goodbye\n"
     ]
    }
   ],
   "source": [
    "#pass is an empty statement, it keep the integrity of the program structure \n",
    "for  letter in 'welcome':\n",
    "    if letter == 'm':\n",
    "        pass # it neither break nor skip the loop\n",
    "        print(\"the current letter is m\")\n",
    "    print(\"the current letter is \",letter)\n",
    "print(\"Goodbye\")"
   ]
  },
  {
   "cell_type": "code",
   "execution_count": 25,
   "metadata": {},
   "outputs": [
    {
     "name": "stdout",
     "output_type": "stream",
     "text": [
      "2\n",
      "4\n",
      "6\n",
      "8\n",
      "10\n",
      "12\n",
      "14\n",
      "16\n",
      "18\n",
      "20\n",
      "Sum result:  110\n"
     ]
    }
   ],
   "source": [
    "num = 2\n",
    "total = 0\n",
    "for i in range(20):\n",
    "    if i % 2 ==0:\n",
    "        \n",
    "while num <= 20:\n",
    "    print(num)\n",
    "    total += num\n",
    "    num += 2\n",
    "    if(total==110):\n",
    "        break\n",
    "else:\n",
    "    continue\n",
    "print(\"Sum result: \", total)\n"
   ]
  },
  {
   "cell_type": "code",
   "execution_count": null,
   "metadata": {},
   "outputs": [],
   "source": [
    "#Escape character\n",
    "# \\\" double quotation, \\' single quotation, \n",
    "#\\n create a new line,the cursor move to the head of new line\n",
    "# \\\\ back slash        \\t tab key,auto-indents \n",
    "print(r\"D:\\Course\")  # means remov escape character\n",
    "a = \"hello world\"\n",
    "print(len(a))"
   ]
  },
  {
   "cell_type": "code",
   "execution_count": 43,
   "metadata": {},
   "outputs": [
    {
     "name": "stdout",
     "output_type": "stream",
     "text": [
      "['00001', '01', '01', '109.png '] 00001\\01\\01\\109.png \n"
     ]
    }
   ],
   "source": [
    "#replace\n",
    "a =  'I\\'m perfect good,good,good,enough'\n",
    "b = a.replace('good','perfect',2) \n",
    "#replace(old,new,count) the third parameter is an optional parameter\n",
    "#it indicates how many times it changes\n",
    "\n",
    "#How to change the filename from   00001_01_01_109.png  into   00001_01_01/109.png\n",
    "#split(obj)\n",
    "d = '00001_01_01_109.png '\n",
    "c = d.split('_')   # change string type into list\n",
    "\n",
    "#join(list), connect the list into string\n",
    "e = '\\\\'.join(c)\n",
    "print(c,e)"
   ]
  },
  {
   "cell_type": "code",
   "execution_count": 52,
   "metadata": {},
   "outputs": [
    {
     "name": "stdout",
     "output_type": "stream",
     "text": [
      "helloworld\n"
     ]
    }
   ],
   "source": [
    "f ='helloworld      '\n",
    "print(f.rstrip())\n",
    "#startswith()   #isalpha\n",
    "#Judge the beginning or end:startswith，endswith\n",
    "#isalnum contain 0-9 letter，upper,lower，swapcase,\n",
    "#capitalize,isnumeric,isalpha,rstrip :delete trail space"
   ]
  },
  {
   "cell_type": "code",
   "execution_count": 65,
   "metadata": {},
   "outputs": [
    {
     "name": "stdout",
     "output_type": "stream",
     "text": [
      "today is 9.230 ,tomorrow is 9.24\n",
      "Daniel is perfect\n",
      "Daniel,Julina,David is perfect\n"
     ]
    }
   ],
   "source": [
    "#Format character, insert variable in string\n",
    "today = 9.23\n",
    "tomorrow =  '9.24'\n",
    "print(\"today is %.3f ,tomorrow is %s\"%(today,tomorrow))\n",
    "#   %s-  string, %i- int ,%f-  float ,%e- scientific counting method   \n",
    "print(\"{} is perfect\".format('Daniel'))\n",
    "print(\"{0},{2},{1} is perfect\".format('Daniel','David','Julina'))"
   ]
  }
 ],
 "metadata": {
  "kernelspec": {
   "display_name": "Python 3",
   "language": "python",
   "name": "python3"
  },
  "language_info": {
   "codemirror_mode": {
    "name": "ipython",
    "version": 3
   },
   "file_extension": ".py",
   "mimetype": "text/x-python",
   "name": "python",
   "nbconvert_exporter": "python",
   "pygments_lexer": "ipython3",
   "version": "3.8.5"
  }
 },
 "nbformat": 4,
 "nbformat_minor": 4
}
