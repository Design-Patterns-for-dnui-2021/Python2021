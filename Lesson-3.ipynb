{
 "cells": [
  {
   "cell_type": "code",
   "execution_count": 7,
   "metadata": {
    "scrolled": true
   },
   "outputs": [
    {
     "name": "stdout",
     "output_type": "stream",
     "text": [
      "input here1\n"
     ]
    },
    {
     "data": {
      "text/plain": [
       "'1'"
      ]
     },
     "execution_count": 7,
     "metadata": {},
     "output_type": "execute_result"
    }
   ],
   "source": [
    "#Lesson2 review\n",
    "#Input 3 int x,y,and z，please output these three numbers from small to large.\n",
    "#we need to use 2 function: input(), for i in range():\n",
    "#for loop, cycle\n",
    "i = []\n",
    "for k in range(3):\n",
    "    a =  int(input(\"Please input the number here\"))\n",
    "    i.append(a)\n",
    "i.sort(reverse = True) # try to output the value from large to small\n",
    "print(i)"
   ]
  },
  {
   "cell_type": "code",
   "execution_count": 18,
   "metadata": {},
   "outputs": [
    {
     "name": "stdout",
     "output_type": "stream",
     "text": [
      "4 1 4\n",
      "[1, 'abc', 2, 3, 4]\n"
     ]
    }
   ],
   "source": [
    "#Tuple\n",
    "a = (1,2,3,4)\n",
    "b = 1,\n",
    "c = [1,2,3]\n",
    "del c[2]\n",
    "#del a[2]  #'tuple' object doesn't support item deletion\n",
    "#del a\n",
    "#build in functions is ok : such as max , min , len,\n",
    "print(max(a),min(a),len(a))\n",
    "d = list(a)\n",
    "d.insert(1,'abc')\n",
    "print(d)"
   ]
  },
  {
   "cell_type": "code",
   "execution_count": 24,
   "metadata": {},
   "outputs": [
    {
     "data": {
      "text/plain": [
       "{'name': 'Jack'}"
      ]
     },
     "execution_count": 24,
     "metadata": {},
     "output_type": "execute_result"
    }
   ],
   "source": [
    "#dit In dict , key value pair is separated by colon, \n",
    "#and each pair is separated by comma, whereas the dict is enclosed in curly braces.\n",
    "e = {'name':'yan','name12':['Jack'],(1,2):[\"hello\"]}\n",
    "#the key can be string/Tuple, but not be list,the value is string/list/dict\n",
    "f = {'name':'yan','home':{'location':'Jakarta','email':'yan@google.com'}}\n",
    "g = {'name':'yan'}\n",
    "g['age']  = '30' #insert\n",
    "g['name'] = 'Jack'  #update\n",
    "del g['age']  #delete\n",
    "g #query, find information inside of it , we just type its name\n"
   ]
  },
  {
   "cell_type": "code",
   "execution_count": null,
   "metadata": {},
   "outputs": [],
   "source": []
  },
  {
   "cell_type": "code",
   "execution_count": 29,
   "metadata": {},
   "outputs": [
    {
     "name": "stdout",
     "output_type": "stream",
     "text": [
      "{'a': '1', 'b': '2', 'c': '3', 'd': '4'} {'c': '3', 'd': '4'} {'a': '1', 'b': '2'}\n",
      "4\n",
      "False\n"
     ]
    }
   ],
   "source": [
    "#Built-in functions in dict\n",
    "dic1 = {'a':'1','b':'2'}\n",
    "dic2 = {'c':'3','d':'4'}\n",
    "dic3 = dic1.copy() #copy a new dict\n",
    "dic1.update(dic2) #add the content, merge two dict together\n",
    "print(dic1,dic2,dic3)\n",
    "print(len(dic1)) #len\n",
    "print('hello' in dic1) # in :determine if a dict contains this key"
   ]
  },
  {
   "cell_type": "code",
   "execution_count": 37,
   "metadata": {},
   "outputs": [
    {
     "name": "stdout",
     "output_type": "stream",
     "text": [
      "Jakarta\n",
      "Jakarta\n",
      "dict_values(['yan', {'location': 'Jakarta', 'email': 'yan@google.com'}]) dict_keys(['name', 'home'])\n"
     ]
    }
   ],
   "source": [
    "dic4 = {'name':'yan','home':{'location':'Jakarta','email':'yan@google.com'}}\n",
    "print(dic4['home']['location'])\n",
    "print(dic4.get('home').get('location')) # dict.get()\n",
    "print(dic4.values(),dic4.keys()) #\n"
   ]
  },
  {
   "cell_type": "code",
   "execution_count": 44,
   "metadata": {},
   "outputs": [
    {
     "name": "stdout",
     "output_type": "stream",
     "text": [
      "yan\n",
      "18\n",
      "180cm\n",
      "black\n",
      "{'location': 'Jakarta', 'email': 'yan@google.com'}\n",
      "name\n",
      "age\n",
      "height\n",
      "hair\n",
      "home\n"
     ]
    }
   ],
   "source": [
    "dic5 = {'name':'yan','age':'18','height':'180cm','hair':'black',\n",
    "        'home':{'location':'Jakarta','email':'yan@google.com'}}\n",
    "#use a loop , like for cycle\n",
    "for i in dic5.values(): #here we output the values, try to output the keys \n",
    "    print(i)\n",
    "\n",
    "for k,v in dic5.items():  #(k,v)\n",
    "    print(k,v)  #print(v)"
   ]
  },
  {
   "cell_type": "code",
   "execution_count": 50,
   "metadata": {},
   "outputs": [
    {
     "name": "stdout",
     "output_type": "stream",
     "text": [
      "please input value here3\n",
      "you have input 3 you have input wrong number\n"
     ]
    }
   ],
   "source": [
    "#practice: use input function, try to input 1,2,3    \n",
    "#if you input 1  , the system output : 'you have input 1'\n",
    "#if you input 2  , the system output : you have input 2\n",
    "#if you input 3  , the system output : you have input 3\n",
    "#if you input other number , the system output : you have input wrong number\n",
    "info = {'1':\"you have input 1\",'2':\"you have input 2\",'3':\"you have input 3\"}\n",
    "a = input(\"please input value here\")\n",
    "print(info.get(a)) #if user input other number,we need do judgement"
   ]
  },
  {
   "cell_type": "code",
   "execution_count": 60,
   "metadata": {},
   "outputs": [
    {
     "name": "stdout",
     "output_type": "stream",
     "text": [
      "{'a', 'e', 'r', 'p'}\n",
      "{'apple', 'pear', 'orange'}\n"
     ]
    }
   ],
   "source": [
    "basket = {\"apple\",\"orange\",\"pear\",\"apple\",\"apple\",\"apple\"}  #set type\n",
    "basket1 = set(\"pear\")\n",
    "print(basket1)\n",
    "set1 = set(\"orange\")# letters\n",
    "set2 = {}  #it is dict type\n",
    "set3 = set((\"orange\",\"pear\",\"apple\")) #words\n",
    "print(set3)"
   ]
  },
  {
   "cell_type": "code",
   "execution_count": 93,
   "metadata": {},
   "outputs": [
    {
     "name": "stdout",
     "output_type": "stream",
     "text": [
      "{'f', 'taobao', 'google'}\n"
     ]
    }
   ],
   "source": [
    "set4 = {\"a\",\"b\",\"c\",\"d\"}\n",
    "set5 = {\"e\",\"f\",\"c\",\"taobao\"}\n",
    "#print(set4 ^set5) # | or & and ^ only in set 4 or in set5 \n",
    "set5.add(\"google\")#add element\n",
    "set5.remove(\"c\")#remove element\n",
    "set5.discard(\"c\")#remove element,even the element does not exist, there is no error\n",
    "set5.pop() #randomly delete an element,takes no arguments\n",
    "print(set5)"
   ]
  },
  {
   "cell_type": "code",
   "execution_count": 95,
   "metadata": {},
   "outputs": [
    {
     "name": "stdout",
     "output_type": "stream",
     "text": [
      "you are old enough\n"
     ]
    }
   ],
   "source": [
    "#if statement is a basic judgement statement\n",
    "# if statement  must be followed a colon:\n",
    "#Automatically indent:we always uses 4 spaces to indent a block.\n",
    "#If the code has the same indentation, we consider it is the same block\n",
    "\n",
    "age = 24\n",
    "if age <18:\n",
    "    print(\"you are young\")\n",
    "else:\n",
    "    print(\"you are old enough\")"
   ]
  },
  {
   "cell_type": "code",
   "execution_count": 101,
   "metadata": {},
   "outputs": [
    {
     "name": "stdout",
     "output_type": "stream",
     "text": [
      "you are old enough to be an university student\n"
     ]
    }
   ],
   "source": [
    "#multi conditions we use or/ and \n",
    "age = 29\n",
    "if (age >18 and age < 22) or (age >24 and age < 30): \n",
    "    print(\"you are old enough to be an university student\")\n",
    "else:\n",
    "    print(\"you are old enough\")"
   ]
  },
  {
   "cell_type": "code",
   "execution_count": 109,
   "metadata": {},
   "outputs": [
    {
     "name": "stdout",
     "output_type": "stream",
     "text": [
      "0\n",
      "2\n",
      "4\n"
     ]
    }
   ],
   "source": [
    "#For cycle is  a loop , we can get all the elements from a sequence,such as list/dict\n",
    "lst = list(range(5)) # 0,1,2,3,4\n",
    "for i in lst[::2]: #slicing\n",
    "    print(i)"
   ]
  },
  {
   "cell_type": "code",
   "execution_count": 111,
   "metadata": {},
   "outputs": [
    {
     "name": "stdout",
     "output_type": "stream",
     "text": [
      "18\n",
      "19\n",
      "20\n",
      "21\n"
     ]
    }
   ],
   "source": [
    "dic1 = {'Tom':'18','Jack':'19','Alex':'20','Mary':'21'}\n",
    "for i in dic1:\n",
    "    print(dic1[i])"
   ]
  },
  {
   "cell_type": "code",
   "execution_count": 117,
   "metadata": {},
   "outputs": [
    {
     "name": "stdout",
     "output_type": "stream",
     "text": [
      "0 0\n",
      "0 1\n",
      "1 0\n",
      "1 1\n",
      "2 0\n",
      "2 1\n"
     ]
    }
   ],
   "source": [
    "for i in range(3):  #underline is ok\n",
    "    for k in range(2):  #nest loop, circulate embedding method\n",
    "        print(i,k)   #we should not use nest loop too much, no more than 3 time "
   ]
  },
  {
   "cell_type": "code",
   "execution_count": 120,
   "metadata": {},
   "outputs": [
    {
     "name": "stdout",
     "output_type": "stream",
     "text": [
      "0\n",
      "2\n",
      "4\n",
      "6\n",
      "8\n",
      "That is the even number\n"
     ]
    }
   ],
   "source": [
    "#practice: write a for cycle ,try to output even number which is no more than 10\n",
    "#0,2,4,6,8\n",
    "for i in range(10):\n",
    "    if  i % 2 ==0:\n",
    "        print(i)\n",
    "print(\"That is the even number\")"
   ]
  }
 ],
 "metadata": {
  "kernelspec": {
   "display_name": "Python 3",
   "language": "python",
   "name": "python3"
  },
  "language_info": {
   "codemirror_mode": {
    "name": "ipython",
    "version": 3
   },
   "file_extension": ".py",
   "mimetype": "text/x-python",
   "name": "python",
   "nbconvert_exporter": "python",
   "pygments_lexer": "ipython3",
   "version": "3.8.5"
  }
 },
 "nbformat": 4,
 "nbformat_minor": 4
}
