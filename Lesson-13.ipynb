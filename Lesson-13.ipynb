{
 "cells": [
  {
   "cell_type": "code",
   "execution_count": 1,
   "metadata": {},
   "outputs": [],
   "source": [
    "import pandas as pd\n",
    "import numpy as np\n",
    "import seaborn as sns  #update matplotlib,provide more useful function to draw pic\n",
    "import matplotlib.pyplot as plt\n",
    "%matplotlib inline"
   ]
  },
  {
   "cell_type": "code",
   "execution_count": 8,
   "metadata": {
    "scrolled": true
   },
   "outputs": [
    {
     "data": {
      "text/html": [
       "<div>\n",
       "<style scoped>\n",
       "    .dataframe tbody tr th:only-of-type {\n",
       "        vertical-align: middle;\n",
       "    }\n",
       "\n",
       "    .dataframe tbody tr th {\n",
       "        vertical-align: top;\n",
       "    }\n",
       "\n",
       "    .dataframe thead th {\n",
       "        text-align: right;\n",
       "    }\n",
       "</style>\n",
       "<table border=\"1\" class=\"dataframe\">\n",
       "  <thead>\n",
       "    <tr style=\"text-align: right;\">\n",
       "      <th></th>\n",
       "      <th>File_name</th>\n",
       "      <th>Patient_index</th>\n",
       "      <th>Study_index</th>\n",
       "      <th>Series_ID</th>\n",
       "      <th>Key_slice_index</th>\n",
       "      <th>Measurement_coordinates</th>\n",
       "      <th>Bounding_boxes</th>\n",
       "      <th>Lesion_diameters_long</th>\n",
       "      <th>Lesion_diameters_short</th>\n",
       "      <th>Normalized_lesion_location</th>\n",
       "      <th>Coarse_lesion_type</th>\n",
       "      <th>Possibly_noisy</th>\n",
       "      <th>Slice_range</th>\n",
       "      <th>Spacing_mm_px_</th>\n",
       "      <th>Image_size</th>\n",
       "      <th>DICOM_windows</th>\n",
       "      <th>Patient_gender</th>\n",
       "      <th>Patient_age</th>\n",
       "      <th>Train_Val_Test</th>\n",
       "    </tr>\n",
       "  </thead>\n",
       "  <tbody>\n",
       "    <tr>\n",
       "      <th>0</th>\n",
       "      <td>000001_01_01_109.png</td>\n",
       "      <td>1</td>\n",
       "      <td>1</td>\n",
       "      <td>1</td>\n",
       "      <td>109</td>\n",
       "      <td>233.537, 95.0204, 234.057, 106.977, 231.169, 1...</td>\n",
       "      <td>226.169, 90.0204, 241.252, 111.977</td>\n",
       "      <td>11.96770</td>\n",
       "      <td>5.10387</td>\n",
       "      <td>0.44666, 0.283794, 0.434454</td>\n",
       "      <td>3</td>\n",
       "      <td>0</td>\n",
       "      <td>103, 115</td>\n",
       "      <td>0.488281, 0.488281, 5</td>\n",
       "      <td>512, 512</td>\n",
       "      <td>-175, 275</td>\n",
       "      <td>F</td>\n",
       "      <td>62.0</td>\n",
       "      <td>3</td>\n",
       "    </tr>\n",
       "    <tr>\n",
       "      <th>1</th>\n",
       "      <td>000001_02_01_014.png</td>\n",
       "      <td>1</td>\n",
       "      <td>2</td>\n",
       "      <td>1</td>\n",
       "      <td>14</td>\n",
       "      <td>224.826, 289.296, 224.016, 305.294, 222.396, 2...</td>\n",
       "      <td>217.396, 284.296, 233.978, 310.294</td>\n",
       "      <td>16.01900</td>\n",
       "      <td>6.61971</td>\n",
       "      <td>0.431015, 0.485238, 0.340745</td>\n",
       "      <td>3</td>\n",
       "      <td>0</td>\n",
       "      <td>8, 23</td>\n",
       "      <td>0.314453, 0.314453, 5</td>\n",
       "      <td>512, 512</td>\n",
       "      <td>-175, 275</td>\n",
       "      <td>F</td>\n",
       "      <td>72.0</td>\n",
       "      <td>3</td>\n",
       "    </tr>\n",
       "    <tr>\n",
       "      <th>2</th>\n",
       "      <td>000001_02_01_017.png</td>\n",
       "      <td>1</td>\n",
       "      <td>2</td>\n",
       "      <td>1</td>\n",
       "      <td>17</td>\n",
       "      <td>272.323, 320.763, 246.522, 263.371, 234.412, 3...</td>\n",
       "      <td>229.412, 258.371, 285.221, 325.763</td>\n",
       "      <td>62.92450</td>\n",
       "      <td>48.99290</td>\n",
       "      <td>0.492691, 0.503106, 0.351754</td>\n",
       "      <td>3</td>\n",
       "      <td>0</td>\n",
       "      <td>8, 23</td>\n",
       "      <td>0.314453, 0.314453, 5</td>\n",
       "      <td>512, 512</td>\n",
       "      <td>-175, 275</td>\n",
       "      <td>F</td>\n",
       "      <td>72.0</td>\n",
       "      <td>3</td>\n",
       "    </tr>\n",
       "    <tr>\n",
       "      <th>3</th>\n",
       "      <td>000001_03_01_088.png</td>\n",
       "      <td>1</td>\n",
       "      <td>3</td>\n",
       "      <td>1</td>\n",
       "      <td>88</td>\n",
       "      <td>257.759, 157.618, 260.018, 133.524, 251.735, 1...</td>\n",
       "      <td>246.735, 128.524, 270.288, 162.618</td>\n",
       "      <td>24.19980</td>\n",
       "      <td>13.61230</td>\n",
       "      <td>0.498999, 0.278924, 0.452792</td>\n",
       "      <td>3</td>\n",
       "      <td>0</td>\n",
       "      <td>58, 118</td>\n",
       "      <td>0.732422, 0.732422, 1</td>\n",
       "      <td>512, 512</td>\n",
       "      <td>-175, 275</td>\n",
       "      <td>F</td>\n",
       "      <td>73.0</td>\n",
       "      <td>3</td>\n",
       "    </tr>\n",
       "    <tr>\n",
       "      <th>4</th>\n",
       "      <td>000001_04_01_017.png</td>\n",
       "      <td>1</td>\n",
       "      <td>4</td>\n",
       "      <td>1</td>\n",
       "      <td>17</td>\n",
       "      <td>304.019, 230.585, 292.217, 211.789, 304.456, 2...</td>\n",
       "      <td>287.217, 206.789, 309.456, 235.585</td>\n",
       "      <td>22.19370</td>\n",
       "      <td>9.80650</td>\n",
       "      <td>0.572678, 0.42336, 0.445674</td>\n",
       "      <td>3</td>\n",
       "      <td>0</td>\n",
       "      <td>11, 23</td>\n",
       "      <td>0.666016, 0.666016, 5</td>\n",
       "      <td>512, 512</td>\n",
       "      <td>-175, 275</td>\n",
       "      <td>F</td>\n",
       "      <td>73.0</td>\n",
       "      <td>3</td>\n",
       "    </tr>\n",
       "    <tr>\n",
       "      <th>5</th>\n",
       "      <td>000002_01_01_162.png</td>\n",
       "      <td>2</td>\n",
       "      <td>1</td>\n",
       "      <td>1</td>\n",
       "      <td>162</td>\n",
       "      <td>238.314, 261.228, 235.858, 268.594, 240.36, 26...</td>\n",
       "      <td>229.222, 256.228, 245.36, 273.594</td>\n",
       "      <td>7.76388</td>\n",
       "      <td>6.77335</td>\n",
       "      <td>0.437715, 0.573812, 0.609054</td>\n",
       "      <td>2</td>\n",
       "      <td>0</td>\n",
       "      <td>156, 168</td>\n",
       "      <td>0.859375, 0.859375, 5</td>\n",
       "      <td>512, 512</td>\n",
       "      <td>-175, 275</td>\n",
       "      <td>F</td>\n",
       "      <td>51.0</td>\n",
       "      <td>2</td>\n",
       "    </tr>\n",
       "    <tr>\n",
       "      <th>6</th>\n",
       "      <td>000002_01_01_176.png</td>\n",
       "      <td>2</td>\n",
       "      <td>1</td>\n",
       "      <td>1</td>\n",
       "      <td>176</td>\n",
       "      <td>275.758, 191.194, 261.137, 190.799, 269.83, 18...</td>\n",
       "      <td>256.137, 180.662, 280.758, 200.541</td>\n",
       "      <td>14.62610</td>\n",
       "      <td>9.87891</td>\n",
       "      <td>0.508777, 0.438113, 0.66217</td>\n",
       "      <td>2</td>\n",
       "      <td>0</td>\n",
       "      <td>170, 182</td>\n",
       "      <td>0.859375, 0.859375, 5</td>\n",
       "      <td>512, 512</td>\n",
       "      <td>-175, 275</td>\n",
       "      <td>F</td>\n",
       "      <td>51.0</td>\n",
       "      <td>2</td>\n",
       "    </tr>\n",
       "    <tr>\n",
       "      <th>7</th>\n",
       "      <td>000002_02_01_077.png</td>\n",
       "      <td>2</td>\n",
       "      <td>2</td>\n",
       "      <td>1</td>\n",
       "      <td>77</td>\n",
       "      <td>240.988, 215.969, 228.479, 219.186, 235.984, 2...</td>\n",
       "      <td>223.479, 207.395, 245.988, 228.475</td>\n",
       "      <td>12.91660</td>\n",
       "      <td>11.64220</td>\n",
       "      <td>0.43167, 0.47806, 0.702035</td>\n",
       "      <td>2</td>\n",
       "      <td>0</td>\n",
       "      <td>44, 83</td>\n",
       "      <td>0.976562, 0.976562, 5</td>\n",
       "      <td>512, 512</td>\n",
       "      <td>-175, 275</td>\n",
       "      <td>F</td>\n",
       "      <td>59.0</td>\n",
       "      <td>2</td>\n",
       "    </tr>\n",
       "    <tr>\n",
       "      <th>8</th>\n",
       "      <td>000002_02_01_050.png</td>\n",
       "      <td>2</td>\n",
       "      <td>2</td>\n",
       "      <td>1</td>\n",
       "      <td>50</td>\n",
       "      <td>313.615, 261.093, 293.88, 259.183, 302.156, 25...</td>\n",
       "      <td>288.88, 248.135, 318.615, 274.051</td>\n",
       "      <td>19.82780</td>\n",
       "      <td>15.99520</td>\n",
       "      <td>0.596974, 0.57036, 0.60468</td>\n",
       "      <td>2</td>\n",
       "      <td>0</td>\n",
       "      <td>44, 83</td>\n",
       "      <td>0.976562, 0.976562, 5</td>\n",
       "      <td>512, 512</td>\n",
       "      <td>-175, 275</td>\n",
       "      <td>F</td>\n",
       "      <td>59.0</td>\n",
       "      <td>2</td>\n",
       "    </tr>\n",
       "    <tr>\n",
       "      <th>9</th>\n",
       "      <td>000002_02_01_065.png</td>\n",
       "      <td>2</td>\n",
       "      <td>2</td>\n",
       "      <td>1</td>\n",
       "      <td>65</td>\n",
       "      <td>289.383, 205.23, 277.907, 202.448, 285.21, 198...</td>\n",
       "      <td>272.907, 193.623, 294.383, 214.055</td>\n",
       "      <td>11.80770</td>\n",
       "      <td>10.52440</td>\n",
       "      <td>0.536447, 0.458577, 0.661835</td>\n",
       "      <td>2</td>\n",
       "      <td>0</td>\n",
       "      <td>44, 83</td>\n",
       "      <td>0.976562, 0.976562, 5</td>\n",
       "      <td>512, 512</td>\n",
       "      <td>-175, 275</td>\n",
       "      <td>F</td>\n",
       "      <td>59.0</td>\n",
       "      <td>2</td>\n",
       "    </tr>\n",
       "  </tbody>\n",
       "</table>\n",
       "</div>"
      ],
      "text/plain": [
       "              File_name  Patient_index  Study_index  Series_ID  \\\n",
       "0  000001_01_01_109.png              1            1          1   \n",
       "1  000001_02_01_014.png              1            2          1   \n",
       "2  000001_02_01_017.png              1            2          1   \n",
       "3  000001_03_01_088.png              1            3          1   \n",
       "4  000001_04_01_017.png              1            4          1   \n",
       "5  000002_01_01_162.png              2            1          1   \n",
       "6  000002_01_01_176.png              2            1          1   \n",
       "7  000002_02_01_077.png              2            2          1   \n",
       "8  000002_02_01_050.png              2            2          1   \n",
       "9  000002_02_01_065.png              2            2          1   \n",
       "\n",
       "   Key_slice_index                            Measurement_coordinates  \\\n",
       "0              109  233.537, 95.0204, 234.057, 106.977, 231.169, 1...   \n",
       "1               14  224.826, 289.296, 224.016, 305.294, 222.396, 2...   \n",
       "2               17  272.323, 320.763, 246.522, 263.371, 234.412, 3...   \n",
       "3               88  257.759, 157.618, 260.018, 133.524, 251.735, 1...   \n",
       "4               17  304.019, 230.585, 292.217, 211.789, 304.456, 2...   \n",
       "5              162  238.314, 261.228, 235.858, 268.594, 240.36, 26...   \n",
       "6              176  275.758, 191.194, 261.137, 190.799, 269.83, 18...   \n",
       "7               77  240.988, 215.969, 228.479, 219.186, 235.984, 2...   \n",
       "8               50  313.615, 261.093, 293.88, 259.183, 302.156, 25...   \n",
       "9               65  289.383, 205.23, 277.907, 202.448, 285.21, 198...   \n",
       "\n",
       "                       Bounding_boxes  Lesion_diameters_long  \\\n",
       "0  226.169, 90.0204, 241.252, 111.977               11.96770   \n",
       "1  217.396, 284.296, 233.978, 310.294               16.01900   \n",
       "2  229.412, 258.371, 285.221, 325.763               62.92450   \n",
       "3  246.735, 128.524, 270.288, 162.618               24.19980   \n",
       "4  287.217, 206.789, 309.456, 235.585               22.19370   \n",
       "5   229.222, 256.228, 245.36, 273.594                7.76388   \n",
       "6  256.137, 180.662, 280.758, 200.541               14.62610   \n",
       "7  223.479, 207.395, 245.988, 228.475               12.91660   \n",
       "8   288.88, 248.135, 318.615, 274.051               19.82780   \n",
       "9  272.907, 193.623, 294.383, 214.055               11.80770   \n",
       "\n",
       "   Lesion_diameters_short    Normalized_lesion_location  Coarse_lesion_type  \\\n",
       "0                 5.10387   0.44666, 0.283794, 0.434454                   3   \n",
       "1                 6.61971  0.431015, 0.485238, 0.340745                   3   \n",
       "2                48.99290  0.492691, 0.503106, 0.351754                   3   \n",
       "3                13.61230  0.498999, 0.278924, 0.452792                   3   \n",
       "4                 9.80650   0.572678, 0.42336, 0.445674                   3   \n",
       "5                 6.77335  0.437715, 0.573812, 0.609054                   2   \n",
       "6                 9.87891   0.508777, 0.438113, 0.66217                   2   \n",
       "7                11.64220    0.43167, 0.47806, 0.702035                   2   \n",
       "8                15.99520    0.596974, 0.57036, 0.60468                   2   \n",
       "9                10.52440  0.536447, 0.458577, 0.661835                   2   \n",
       "\n",
       "   Possibly_noisy Slice_range         Spacing_mm_px_ Image_size DICOM_windows  \\\n",
       "0               0    103, 115  0.488281, 0.488281, 5   512, 512     -175, 275   \n",
       "1               0       8, 23  0.314453, 0.314453, 5   512, 512     -175, 275   \n",
       "2               0       8, 23  0.314453, 0.314453, 5   512, 512     -175, 275   \n",
       "3               0     58, 118  0.732422, 0.732422, 1   512, 512     -175, 275   \n",
       "4               0      11, 23  0.666016, 0.666016, 5   512, 512     -175, 275   \n",
       "5               0    156, 168  0.859375, 0.859375, 5   512, 512     -175, 275   \n",
       "6               0    170, 182  0.859375, 0.859375, 5   512, 512     -175, 275   \n",
       "7               0      44, 83  0.976562, 0.976562, 5   512, 512     -175, 275   \n",
       "8               0      44, 83  0.976562, 0.976562, 5   512, 512     -175, 275   \n",
       "9               0      44, 83  0.976562, 0.976562, 5   512, 512     -175, 275   \n",
       "\n",
       "  Patient_gender  Patient_age  Train_Val_Test  \n",
       "0              F         62.0               3  \n",
       "1              F         72.0               3  \n",
       "2              F         72.0               3  \n",
       "3              F         73.0               3  \n",
       "4              F         73.0               3  \n",
       "5              F         51.0               2  \n",
       "6              F         51.0               2  \n",
       "7              F         59.0               2  \n",
       "8              F         59.0               2  \n",
       "9              F         59.0               2  "
      ]
     },
     "execution_count": 8,
     "metadata": {},
     "output_type": "execute_result"
    }
   ],
   "source": [
    "import os\n",
    "os.chdir(r'C:\\Users\\everi\\Desktop\\Code\\Python\\Py2021') #change directory\n",
    "df01 = pd.read_csv('DL_info_deletelargeno.csv',engine='python') #read csv file\n",
    "df01.dropna(inplace =True) #Remove missing values.\n",
    "df01.head(10)"
   ]
  },
  {
   "cell_type": "code",
   "execution_count": 11,
   "metadata": {},
   "outputs": [
    {
     "name": "stdout",
     "output_type": "stream",
     "text": [
      "The total number of patient is 9786\n"
     ]
    }
   ],
   "source": [
    "data_age = df01['Patient_age']  \n",
    "data_age.head(10)\n",
    "print('The total number of patient is %i'%len(data_age)) #9786"
   ]
  },
  {
   "cell_type": "code",
   "execution_count": 13,
   "metadata": {},
   "outputs": [
    {
     "data": {
      "text/html": [
       "<div>\n",
       "<style scoped>\n",
       "    .dataframe tbody tr th:only-of-type {\n",
       "        vertical-align: middle;\n",
       "    }\n",
       "\n",
       "    .dataframe tbody tr th {\n",
       "        vertical-align: top;\n",
       "    }\n",
       "\n",
       "    .dataframe thead th {\n",
       "        text-align: right;\n",
       "    }\n",
       "</style>\n",
       "<table border=\"1\" class=\"dataframe\">\n",
       "  <thead>\n",
       "    <tr style=\"text-align: right;\">\n",
       "      <th></th>\n",
       "      <th>Coarse_lesion_type</th>\n",
       "      <th>Patient_gender</th>\n",
       "      <th>Patient_age</th>\n",
       "    </tr>\n",
       "  </thead>\n",
       "  <tbody>\n",
       "    <tr>\n",
       "      <th>0</th>\n",
       "      <td>3</td>\n",
       "      <td>F</td>\n",
       "      <td>62.0</td>\n",
       "    </tr>\n",
       "    <tr>\n",
       "      <th>1</th>\n",
       "      <td>3</td>\n",
       "      <td>F</td>\n",
       "      <td>72.0</td>\n",
       "    </tr>\n",
       "    <tr>\n",
       "      <th>2</th>\n",
       "      <td>3</td>\n",
       "      <td>F</td>\n",
       "      <td>72.0</td>\n",
       "    </tr>\n",
       "    <tr>\n",
       "      <th>3</th>\n",
       "      <td>3</td>\n",
       "      <td>F</td>\n",
       "      <td>73.0</td>\n",
       "    </tr>\n",
       "    <tr>\n",
       "      <th>4</th>\n",
       "      <td>3</td>\n",
       "      <td>F</td>\n",
       "      <td>73.0</td>\n",
       "    </tr>\n",
       "  </tbody>\n",
       "</table>\n",
       "</div>"
      ],
      "text/plain": [
       "   Coarse_lesion_type Patient_gender  Patient_age\n",
       "0                   3              F         62.0\n",
       "1                   3              F         72.0\n",
       "2                   3              F         72.0\n",
       "3                   3              F         73.0\n",
       "4                   3              F         73.0"
      ]
     },
     "execution_count": 13,
     "metadata": {},
     "output_type": "execute_result"
    }
   ],
   "source": [
    "90data = df01[['Coarse_lesion_type','Patient_gender','Patient_age']]\n",
    "data.head()"
   ]
  },
  {
   "cell_type": "code",
   "execution_count": 25,
   "metadata": {},
   "outputs": [
    {
     "data": {
      "text/plain": [
       "Text(0.5, 1.0, 'Coarse_lesion_type')"
      ]
     },
     "execution_count": 25,
     "metadata": {},
     "output_type": "execute_result"
    },
    {
     "data": {
      "image/png": "[encoded data removed]",
      "text/plain": [
       "<Figure size 432x288 with 1 Axes>"
      ]
     },
     "metadata": {
      "needs_background": "light"
     },
     "output_type": "display_data"
    }
   ],
   "source": [
    "df = pd.DataFrame({'a':df01['Coarse_lesion_type'],'b':df01['Patient_gender']},columns=['a','b'])\n",
    "df.plot.hist(stacked=True,bins=10, alpha=0.5,colormap='RdYlGn',grid=True)\n",
    "#df.plot(linestyle='--',marker ='v')  \n",
    "plt.title('Coarse_lesion_type')"
   ]
  },
  {
   "cell_type": "code",
   "execution_count": 33,
   "metadata": {},
   "outputs": [
    {
     "data": {
      "text/plain": [
       "Text(0.5, 1.0, 'Patient_age')"
      ]
     },
     "execution_count": 33,
     "metadata": {},
     "output_type": "execute_result"
    },
    {
     "data": {
      "image/png": "[encoded data removed]",
      "text/plain": [
       "<Figure size 720x288 with 1 Axes>"
      ]
     },
     "metadata": {
      "needs_background": "light"
     },
     "output_type": "display_data"
    }
   ],
   "source": [
    "data_age.head()\n",
    "data_age.plot.box(vert=False,colormap='RdYlGn',grid=True,figsize=(10,4)) #Make a box plot of the DataFrame columns.\n",
    "plt.xlabel('age',fontsize=18)\n",
    "plt.ylabel('value',fontsize =20)\n",
    "plt.title('Patient_age')"
   ]
  },
  {
   "cell_type": "code",
   "execution_count": 38,
   "metadata": {},
   "outputs": [
    {
     "data": {
      "text/plain": [
       "Text(0.5, 1.0, 'Disease_size')"
      ]
     },
     "execution_count": 38,
     "metadata": {},
     "output_type": "execute_result"
    },
    {
     "data": {
      "image/png": "[encoded data removed]",
      "text/plain": [
       "<Figure size 432x288 with 1 Axes>"
      ]
     },
     "metadata": {
      "needs_background": "light"
     },
     "output_type": "display_data"
    }
   ],
   "source": [
    "plt.scatter(df01['Lesion_diameters_long'],df01['Lesion_diameters_short'],1,'r') #scatter chart, dot\n",
    "plt.xlabel('width',fontsize=16)\n",
    "plt.ylabel('height',fontsize =16)\n",
    "plt.title('Disease_size')"
   ]
  },
  {
   "cell_type": "code",
   "execution_count": 64,
   "metadata": {},
   "outputs": [
    {
     "data": {
      "text/plain": [
       "<AxesSubplot:ylabel='Density'>"
      ]
     },
     "execution_count": 64,
     "metadata": {},
     "output_type": "execute_result"
    },
    {
     "data": {
      "image/png": "[encoded data removed]",
      "text/plain": [
       "<Figure size 432x288 with 1 Axes>"
      ]
     },
     "metadata": {
      "needs_background": "light"
     },
     "output_type": "display_data"
    }
   ],
   "source": [
    "#histogram\n",
    "import seaborn as sns\n",
    "import warnings\n",
    "warnings.filterwarnings('ignore')\n",
    "s = pd.Series(np.random.randn(100)*100)\n",
    "sns.distplot(s,bins=20,hist=True,\n",
    "    kde=True,norm_hist = False,rug =True, vertical= False,color = 'r',rug_kws = {'color':'g'} \n",
    "            )  \n",
    "#fit value, density curve"
   ]
  },
  {
   "cell_type": "code",
   "execution_count": 65,
   "metadata": {},
   "outputs": [
    {
     "data": {
      "text/plain": [
       "<AxesSubplot:ylabel='Density'>"
      ]
     },
     "execution_count": 65,
     "metadata": {},
     "output_type": "execute_result"
    },
    {
     "data": {
      "image/png": "[encoded data removed]",
      "text/plain": [
       "<Figure size 432x288 with 1 Axes>"
      ]
     },
     "metadata": {
      "needs_background": "light"
     },
     "output_type": "display_data"
    }
   ],
   "source": [
    "plt.rcParams['font.sans-serif'] = [u'SimHei']\n",
    "plt.rcParams['axes.unicode_minus'] = False\n",
    "sns.distplot(s,rug = True, \n",
    "            rug_kws = {'color':'g'} ,   \n",
    "            # Set data frequency distribution color\n",
    "            kde_kws={\"color\": \"k\", \"lw\": 1, \"label\": \"KDE\",'linestyle':'--'},   \n",
    "             #Set density curve color, line width, dimension and line shape\n",
    "            hist_kws={\"histtype\": \"step\", \"linewidth\": 1,\"alpha\": 1, \"color\": \"g\"}) "
   ]
  },
  {
   "cell_type": "code",
   "execution_count": 85,
   "metadata": {},
   "outputs": [
    {
     "data": {
      "text/plain": [
       "<AxesSubplot:ylabel='Density'>"
      ]
     },
     "execution_count": 85,
     "metadata": {},
     "output_type": "execute_result"
    },
    {
     "data": {
      "image/png": "[encoded data removed]",
      "text/plain": [
       "<Figure size 432x288 with 1 Axes>"
      ]
     },
     "metadata": {
      "needs_background": "light"
     },
     "output_type": "display_data"
    }
   ],
   "source": [
    "sns.kdeplot(s,shade=True,color='r',vertical=False,linewidth=1.5,bw=5,label=\"bw:0.2\")\n",
    "sns.kdeplot(s,shade=True,color='r',vertical=False,linestyle=\"-.\",bw=10,label=\"bw:2\")\n",
    "#Data density distribution of signle sample \n",
    "#linewidth, alpha, linestyle,label"
   ]
  },
  {
   "cell_type": "code",
   "execution_count": 94,
   "metadata": {},
   "outputs": [
    {
     "data": {
      "text/plain": [
       "<AxesSubplot:xlabel='A', ylabel='B'>"
      ]
     },
     "execution_count": 94,
     "metadata": {},
     "output_type": "execute_result"
    },
    {
     "data": {
      "image/png": "[encoded data removed]",
      "text/plain": [
       "<Figure size 432x288 with 2 Axes>"
      ]
     },
     "metadata": {
      "needs_background": "light"
     },
     "output_type": "display_data"
    }
   ],
   "source": [
    "df = pd.DataFrame(np.random.randn(100,2),columns=['A','B'])\n",
    "sns.kdeplot(df['A'],df['B'],shade=True,cmap='Reds',cbar=True,n_levels=15) #2 samples\n",
    "sns.rugplot(df['A'],color ='g',axis='x',alpha=0.5)\n",
    "sns.rugplot(df['B'],color ='r',axis='y',alpha=0.5)"
   ]
  },
  {
   "cell_type": "code",
   "execution_count": 96,
   "metadata": {},
   "outputs": [
    {
     "data": {
      "text/plain": [
       "<AxesSubplot:xlabel='Lesion_diameters_long', ylabel='Lesion_diameters_short'>"
      ]
     },
     "execution_count": 96,
     "metadata": {},
     "output_type": "execute_result"
    },
    {
     "data": {
      "image/png": "[encoded data removed]",
      "text/plain": [
       "<Figure size 1080x720 with 2 Axes>"
      ]
     },
     "metadata": {
      "needs_background": "light"
     },
     "output_type": "display_data"
    }
   ],
   "source": [
    "# df01['Lesion_diameters_long'],df01['Lesion_diameters_short']\n",
    "plt.figure(figsize=(15,10))\n",
    "sns.kdeplot(df01['Lesion_diameters_long'],df01['Lesion_diameters_short']\n",
    "            ,shade=True,cmap='Reds',cbar=True,n_levels=10) #2 samples\n",
    "sns.rugplot(df01['Lesion_diameters_long'],color ='g',axis='x',alpha=0.5)\n",
    "sns.rugplot(df01['Lesion_diameters_short'],color ='r',axis='y',alpha=0.5)"
   ]
  },
  {
   "cell_type": "code",
   "execution_count": 102,
   "metadata": {},
   "outputs": [
    {
     "data": {
      "text/plain": [
       "<AxesSubplot:xlabel='Lesion_diameters_short', ylabel='Density'>"
      ]
     },
     "execution_count": 102,
     "metadata": {},
     "output_type": "execute_result"
    },
    {
     "data": {
      "image/png": "[encoded data removed]",
      "text/plain": [
       "<Figure size 432x288 with 1 Axes>"
      ]
     },
     "metadata": {
      "needs_background": "light"
     },
     "output_type": "display_data"
    }
   ],
   "source": [
    "sns.distplot(df01['Lesion_diameters_long'],rug = True,bins=40, \n",
    "            rug_kws = {'color':'g'} ,   \n",
    "            # Set data frequency distribution color\n",
    "            kde_kws={\"color\": \"k\", \"lw\": 1, \"label\": \"KDE\",'linestyle':'--'},   \n",
    "             #Set density curve color, line width, dimension and line shape\n",
    "            hist_kws={\"histtype\": \"step\", \"linewidth\": 1,\"alpha\": 1, \"color\": \"g\"}) \n",
    "sns.distplot(df01['Lesion_diameters_short'],bins=20,hist=True,\n",
    "    kde=True,norm_hist = False,rug =True, vertical= False,color = 'r',rug_kws = {'color':'g'} \n",
    "            )  "
   ]
  }
 ],
 "metadata": {
  "kernelspec": {
   "display_name": "Python 3",
   "language": "python",
   "name": "python3"
  },
  "language_info": {
   "codemirror_mode": {
    "name": "ipython",
    "version": 3
   },
   "file_extension": ".py",
   "mimetype": "text/x-python",
   "name": "python",
   "nbconvert_exporter": "python",
   "pygments_lexer": "ipython3",
   "version": "3.8.5"
  }
 },
 "nbformat": 4,
 "nbformat_minor": 4
}
