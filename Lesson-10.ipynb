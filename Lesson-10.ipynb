{
 "cells": [
  {
   "cell_type": "code",
   "execution_count": 2,
   "metadata": {},
   "outputs": [
    {
     "name": "stdout",
     "output_type": "stream",
     "text": [
      "  va1,va2,va3,va4\n",
      "0         1,2,3,4\n",
      "1         2,3,4,5\n",
      "2         3,4,5,6\n",
      "3         4,5,6,7\n"
     ]
    }
   ],
   "source": [
    "#read txt file\n",
    "import pandas as pd\n",
    "import numpy as np\n",
    "import os\n",
    "os.chdir('C:\\\\Users\\\\everi\\\\Desktop\\\\')\n",
    "data1 = pd.read_table('data1.txt')\n",
    "print(data1)"
   ]
  },
  {
   "cell_type": "code",
   "execution_count": 6,
   "metadata": {},
   "outputs": [
    {
     "data": {
      "text/html": [
       "<div>\n",
       "<style scoped>\n",
       "    .dataframe tbody tr th:only-of-type {\n",
       "        vertical-align: middle;\n",
       "    }\n",
       "\n",
       "    .dataframe tbody tr th {\n",
       "        vertical-align: top;\n",
       "    }\n",
       "\n",
       "    .dataframe thead th {\n",
       "        text-align: right;\n",
       "    }\n",
       "</style>\n",
       "<table border=\"1\" class=\"dataframe\">\n",
       "  <thead>\n",
       "    <tr style=\"text-align: right;\">\n",
       "      <th></th>\n",
       "      <th>Age</th>\n",
       "      <th>Attrition</th>\n",
       "      <th>DistanceFromHome</th>\n",
       "      <th>Education</th>\n",
       "      <th>EmployeeNumber</th>\n",
       "      <th>EnvironmentSatisfaction</th>\n",
       "      <th>JobInvolvement</th>\n",
       "      <th>JobLevel</th>\n",
       "      <th>JobSatisfaction</th>\n",
       "      <th>MonthlyIncome</th>\n",
       "      <th>...</th>\n",
       "      <th>RelationshipSatisfaction</th>\n",
       "      <th>StandardHours</th>\n",
       "      <th>StockOptionLevel</th>\n",
       "      <th>TotalWorkingYears</th>\n",
       "      <th>TrainingTimesLastYear</th>\n",
       "      <th>WorkLifeBalance</th>\n",
       "      <th>YearsAtCompany</th>\n",
       "      <th>YearsInCurrentRole</th>\n",
       "      <th>YearsSinceLastPromotion</th>\n",
       "      <th>YearsWithCurrManager</th>\n",
       "    </tr>\n",
       "  </thead>\n",
       "  <tbody>\n",
       "    <tr>\n",
       "      <th>count</th>\n",
       "      <td>1100.000000</td>\n",
       "      <td>1100.000000</td>\n",
       "      <td>1100.000000</td>\n",
       "      <td>1100.000000</td>\n",
       "      <td>1100.000000</td>\n",
       "      <td>1100.000000</td>\n",
       "      <td>1100.000000</td>\n",
       "      <td>1100.000000</td>\n",
       "      <td>1100.000000</td>\n",
       "      <td>1100.000000</td>\n",
       "      <td>...</td>\n",
       "      <td>1100.000000</td>\n",
       "      <td>1100.0</td>\n",
       "      <td>1100.000000</td>\n",
       "      <td>1100.000000</td>\n",
       "      <td>1100.000000</td>\n",
       "      <td>1100.000000</td>\n",
       "      <td>1100.000000</td>\n",
       "      <td>1100.000000</td>\n",
       "      <td>1100.000000</td>\n",
       "      <td>1100.000000</td>\n",
       "    </tr>\n",
       "    <tr>\n",
       "      <th>mean</th>\n",
       "      <td>36.999091</td>\n",
       "      <td>0.161818</td>\n",
       "      <td>9.427273</td>\n",
       "      <td>2.922727</td>\n",
       "      <td>1028.157273</td>\n",
       "      <td>2.725455</td>\n",
       "      <td>2.730909</td>\n",
       "      <td>2.054545</td>\n",
       "      <td>2.732727</td>\n",
       "      <td>6483.620909</td>\n",
       "      <td>...</td>\n",
       "      <td>2.696364</td>\n",
       "      <td>80.0</td>\n",
       "      <td>0.788182</td>\n",
       "      <td>11.221818</td>\n",
       "      <td>2.807273</td>\n",
       "      <td>2.746364</td>\n",
       "      <td>7.011818</td>\n",
       "      <td>4.207273</td>\n",
       "      <td>2.226364</td>\n",
       "      <td>4.123636</td>\n",
       "    </tr>\n",
       "    <tr>\n",
       "      <th>std</th>\n",
       "      <td>9.037230</td>\n",
       "      <td>0.368451</td>\n",
       "      <td>8.196694</td>\n",
       "      <td>1.022242</td>\n",
       "      <td>598.915204</td>\n",
       "      <td>1.098053</td>\n",
       "      <td>0.706366</td>\n",
       "      <td>1.107805</td>\n",
       "      <td>1.109731</td>\n",
       "      <td>4715.293419</td>\n",
       "      <td>...</td>\n",
       "      <td>1.095356</td>\n",
       "      <td>0.0</td>\n",
       "      <td>0.843347</td>\n",
       "      <td>7.825548</td>\n",
       "      <td>1.291514</td>\n",
       "      <td>0.701121</td>\n",
       "      <td>6.223093</td>\n",
       "      <td>3.618115</td>\n",
       "      <td>3.313830</td>\n",
       "      <td>3.597996</td>\n",
       "    </tr>\n",
       "    <tr>\n",
       "      <th>min</th>\n",
       "      <td>18.000000</td>\n",
       "      <td>0.000000</td>\n",
       "      <td>1.000000</td>\n",
       "      <td>1.000000</td>\n",
       "      <td>1.000000</td>\n",
       "      <td>1.000000</td>\n",
       "      <td>1.000000</td>\n",
       "      <td>1.000000</td>\n",
       "      <td>1.000000</td>\n",
       "      <td>1009.000000</td>\n",
       "      <td>...</td>\n",
       "      <td>1.000000</td>\n",
       "      <td>80.0</td>\n",
       "      <td>0.000000</td>\n",
       "      <td>0.000000</td>\n",
       "      <td>0.000000</td>\n",
       "      <td>1.000000</td>\n",
       "      <td>0.000000</td>\n",
       "      <td>0.000000</td>\n",
       "      <td>0.000000</td>\n",
       "      <td>0.000000</td>\n",
       "    </tr>\n",
       "    <tr>\n",
       "      <th>25%</th>\n",
       "      <td>30.000000</td>\n",
       "      <td>0.000000</td>\n",
       "      <td>2.000000</td>\n",
       "      <td>2.000000</td>\n",
       "      <td>504.250000</td>\n",
       "      <td>2.000000</td>\n",
       "      <td>2.000000</td>\n",
       "      <td>1.000000</td>\n",
       "      <td>2.000000</td>\n",
       "      <td>2924.500000</td>\n",
       "      <td>...</td>\n",
       "      <td>2.000000</td>\n",
       "      <td>80.0</td>\n",
       "      <td>0.000000</td>\n",
       "      <td>6.000000</td>\n",
       "      <td>2.000000</td>\n",
       "      <td>2.000000</td>\n",
       "      <td>3.000000</td>\n",
       "      <td>2.000000</td>\n",
       "      <td>0.000000</td>\n",
       "      <td>2.000000</td>\n",
       "    </tr>\n",
       "    <tr>\n",
       "      <th>50%</th>\n",
       "      <td>36.000000</td>\n",
       "      <td>0.000000</td>\n",
       "      <td>7.000000</td>\n",
       "      <td>3.000000</td>\n",
       "      <td>1026.500000</td>\n",
       "      <td>3.000000</td>\n",
       "      <td>3.000000</td>\n",
       "      <td>2.000000</td>\n",
       "      <td>3.000000</td>\n",
       "      <td>4857.000000</td>\n",
       "      <td>...</td>\n",
       "      <td>3.000000</td>\n",
       "      <td>80.0</td>\n",
       "      <td>1.000000</td>\n",
       "      <td>10.000000</td>\n",
       "      <td>3.000000</td>\n",
       "      <td>3.000000</td>\n",
       "      <td>5.000000</td>\n",
       "      <td>3.000000</td>\n",
       "      <td>1.000000</td>\n",
       "      <td>3.000000</td>\n",
       "    </tr>\n",
       "    <tr>\n",
       "      <th>75%</th>\n",
       "      <td>43.000000</td>\n",
       "      <td>0.000000</td>\n",
       "      <td>15.000000</td>\n",
       "      <td>4.000000</td>\n",
       "      <td>1556.500000</td>\n",
       "      <td>4.000000</td>\n",
       "      <td>3.000000</td>\n",
       "      <td>3.000000</td>\n",
       "      <td>4.000000</td>\n",
       "      <td>8354.500000</td>\n",
       "      <td>...</td>\n",
       "      <td>4.000000</td>\n",
       "      <td>80.0</td>\n",
       "      <td>1.000000</td>\n",
       "      <td>15.000000</td>\n",
       "      <td>3.000000</td>\n",
       "      <td>3.000000</td>\n",
       "      <td>9.000000</td>\n",
       "      <td>7.000000</td>\n",
       "      <td>3.000000</td>\n",
       "      <td>7.000000</td>\n",
       "    </tr>\n",
       "    <tr>\n",
       "      <th>max</th>\n",
       "      <td>60.000000</td>\n",
       "      <td>1.000000</td>\n",
       "      <td>29.000000</td>\n",
       "      <td>5.000000</td>\n",
       "      <td>2065.000000</td>\n",
       "      <td>4.000000</td>\n",
       "      <td>4.000000</td>\n",
       "      <td>5.000000</td>\n",
       "      <td>4.000000</td>\n",
       "      <td>19999.000000</td>\n",
       "      <td>...</td>\n",
       "      <td>4.000000</td>\n",
       "      <td>80.0</td>\n",
       "      <td>3.000000</td>\n",
       "      <td>40.000000</td>\n",
       "      <td>6.000000</td>\n",
       "      <td>4.000000</td>\n",
       "      <td>37.000000</td>\n",
       "      <td>18.000000</td>\n",
       "      <td>15.000000</td>\n",
       "      <td>17.000000</td>\n",
       "    </tr>\n",
       "  </tbody>\n",
       "</table>\n",
       "<p>8 rows × 23 columns</p>\n",
       "</div>"
      ],
      "text/plain": [
       "               Age    Attrition  DistanceFromHome    Education  \\\n",
       "count  1100.000000  1100.000000       1100.000000  1100.000000   \n",
       "mean     36.999091     0.161818          9.427273     2.922727   \n",
       "std       9.037230     0.368451          8.196694     1.022242   \n",
       "min      18.000000     0.000000          1.000000     1.000000   \n",
       "25%      30.000000     0.000000          2.000000     2.000000   \n",
       "50%      36.000000     0.000000          7.000000     3.000000   \n",
       "75%      43.000000     0.000000         15.000000     4.000000   \n",
       "max      60.000000     1.000000         29.000000     5.000000   \n",
       "\n",
       "       EmployeeNumber  EnvironmentSatisfaction  JobInvolvement     JobLevel  \\\n",
       "count     1100.000000              1100.000000     1100.000000  1100.000000   \n",
       "mean      1028.157273                 2.725455        2.730909     2.054545   \n",
       "std        598.915204                 1.098053        0.706366     1.107805   \n",
       "min          1.000000                 1.000000        1.000000     1.000000   \n",
       "25%        504.250000                 2.000000        2.000000     1.000000   \n",
       "50%       1026.500000                 3.000000        3.000000     2.000000   \n",
       "75%       1556.500000                 4.000000        3.000000     3.000000   \n",
       "max       2065.000000                 4.000000        4.000000     5.000000   \n",
       "\n",
       "       JobSatisfaction  MonthlyIncome  ...  RelationshipSatisfaction  \\\n",
       "count      1100.000000    1100.000000  ...               1100.000000   \n",
       "mean          2.732727    6483.620909  ...                  2.696364   \n",
       "std           1.109731    4715.293419  ...                  1.095356   \n",
       "min           1.000000    1009.000000  ...                  1.000000   \n",
       "25%           2.000000    2924.500000  ...                  2.000000   \n",
       "50%           3.000000    4857.000000  ...                  3.000000   \n",
       "75%           4.000000    8354.500000  ...                  4.000000   \n",
       "max           4.000000   19999.000000  ...                  4.000000   \n",
       "\n",
       "       StandardHours  StockOptionLevel  TotalWorkingYears  \\\n",
       "count         1100.0       1100.000000        1100.000000   \n",
       "mean            80.0          0.788182          11.221818   \n",
       "std              0.0          0.843347           7.825548   \n",
       "min             80.0          0.000000           0.000000   \n",
       "25%             80.0          0.000000           6.000000   \n",
       "50%             80.0          1.000000          10.000000   \n",
       "75%             80.0          1.000000          15.000000   \n",
       "max             80.0          3.000000          40.000000   \n",
       "\n",
       "       TrainingTimesLastYear  WorkLifeBalance  YearsAtCompany  \\\n",
       "count            1100.000000      1100.000000     1100.000000   \n",
       "mean                2.807273         2.746364        7.011818   \n",
       "std                 1.291514         0.701121        6.223093   \n",
       "min                 0.000000         1.000000        0.000000   \n",
       "25%                 2.000000         2.000000        3.000000   \n",
       "50%                 3.000000         3.000000        5.000000   \n",
       "75%                 3.000000         3.000000        9.000000   \n",
       "max                 6.000000         4.000000       37.000000   \n",
       "\n",
       "       YearsInCurrentRole  YearsSinceLastPromotion  YearsWithCurrManager  \n",
       "count         1100.000000              1100.000000           1100.000000  \n",
       "mean             4.207273                 2.226364              4.123636  \n",
       "std              3.618115                 3.313830              3.597996  \n",
       "min              0.000000                 0.000000              0.000000  \n",
       "25%              2.000000                 0.000000              2.000000  \n",
       "50%              3.000000                 1.000000              3.000000  \n",
       "75%              7.000000                 3.000000              7.000000  \n",
       "max             18.000000                15.000000             17.000000  \n",
       "\n",
       "[8 rows x 23 columns]"
      ]
     },
     "execution_count": 6,
     "metadata": {},
     "output_type": "execute_result"
    }
   ],
   "source": [
    "data2 = pd.read_csv('train.csv') #read_excel\n",
    "#data2.head(6)\n",
    "data2.describe() #shift+tab"
   ]
  },
  {
   "cell_type": "code",
   "execution_count": 12,
   "metadata": {},
   "outputs": [
    {
     "name": "stdout",
     "output_type": "stream",
     "text": [
      "Positive sample number:178,proportion0.1618181818181818\n",
      "Negative sample number:922,proportion0.8381818181818181\n",
      "1.0\n"
     ]
    }
   ],
   "source": [
    "#0 is still in the company,1 means the person leave the company/Attrition\n",
    "neg_data = data2[data2['Attrition']==0]\n",
    "pos_data = data2[data2['Attrition']==1]\n",
    "print(\"Positive sample number:{},proportion{}\"\n",
    "      .format(len(pos_data),len(pos_data)/len(data2)))\n",
    "print(\"Negative sample number:{},proportion{}\"\n",
    "      .format(len(neg_data),len(neg_data)/len(data2)))\n",
    "print(len(pos_data)/len(data2)+len(neg_data)/len(data2))"
   ]
  },
  {
   "cell_type": "code",
   "execution_count": 15,
   "metadata": {},
   "outputs": [
    {
     "name": "stdout",
     "output_type": "stream",
     "text": [
      "a    1\n",
      "b    2\n",
      "c    3\n",
      "4    4\n",
      "5    5\n",
      "dtype: int64 1\n",
      "a    1\n",
      "c    3\n",
      "dtype: int64\n"
     ]
    }
   ],
   "source": [
    "#Series:1D array+ index\n",
    "# 1.Series can be created by the dict. The key of the dict is index\n",
    "dic = {'a':1,'b':2,'c':3,'4':4,'5':5}\n",
    "s = pd.Series(dic)  #keyword \n",
    "print(s,s['a'])\n",
    "print(s[['a','c']])  #multi label index has 2 bracket"
   ]
  },
  {
   "cell_type": "code",
   "execution_count": 22,
   "metadata": {},
   "outputs": [
    {
     "name": "stdout",
     "output_type": "stream",
     "text": [
      "[0.46213174 0.80103458 0.6476416  0.60754658 0.44497207] \n",
      " a    0.462132\n",
      "b    0.801035\n",
      "c    0.647642\n",
      "d    0.607547\n",
      "e    0.444972\n",
      "dtype: object\n"
     ]
    }
   ],
   "source": [
    "arr = np.random.rand(5)\n",
    "#s = pd.Series(arr)\n",
    "s = pd.Series(arr,index=[\"a\",\"b\",\"c\",\"d\",\"e\"],dtype = np.object)\n",
    "print(arr,'\\n',s)"
   ]
  },
  {
   "cell_type": "code",
   "execution_count": 52,
   "metadata": {},
   "outputs": [
    {
     "name": "stdout",
     "output_type": "stream",
     "text": [
      "a    85.844832\n",
      "b    88.314437\n",
      "d    59.136781\n",
      "e    63.572913\n",
      "i    64.805809\n",
      "dtype: float64\n"
     ]
    }
   ],
   "source": [
    "s1 = pd.Series(np.random.rand(10)*100,index=list(\"abcdefghij\"))\n",
    "print(s1[s1>50]) #s1[[\"b\",\"c\"]],s[3:6]"
   ]
  },
  {
   "cell_type": "code",
   "execution_count": 54,
   "metadata": {},
   "outputs": [
    {
     "name": "stdout",
     "output_type": "stream",
     "text": [
      "a    0.383140\n",
      "b    0.993040\n",
      "c    0.480042\n",
      "dtype: float64 \n",
      " b    0.735715\n",
      "c    0.804682\n",
      "d    0.544476\n",
      "dtype: float64\n",
      "a         NaN\n",
      "b    1.728755\n",
      "c    1.284724\n",
      "d         NaN\n",
      "dtype: float64\n"
     ]
    }
   ],
   "source": [
    "s1 = pd.Series(np.random.rand(3),index=[\"a\",\"b\",\"c\"])\n",
    "s2 = pd.Series(np.random.rand(3),index=[\"b\",\"c\",\"d\"])\n",
    "print(s1,\"\\n\",s2)\n",
    "print(s1+s2)"
   ]
  },
  {
   "cell_type": "code",
   "execution_count": 58,
   "metadata": {},
   "outputs": [
    {
     "name": "stdout",
     "output_type": "stream",
     "text": [
      "b    0.965185\n",
      "dtype: float64\n"
     ]
    }
   ],
   "source": [
    "s1 = pd.Series(np.random.rand(3),index=[\"a\",\"b\",\"c\"])\n",
    "s2 = s1.drop(['a','c'])  #tab +shift  inplace = True\n",
    "print(s2)"
   ]
  },
  {
   "cell_type": "code",
   "execution_count": 63,
   "metadata": {},
   "outputs": [
    {
     "name": "stdout",
     "output_type": "stream",
     "text": [
      "a    100.000000\n",
      "b      0.858493\n",
      "c      0.497504\n",
      "d     99.000000\n",
      "e      0.455548\n",
      "f      0.466407\n",
      "g      0.108381\n",
      "dtype: float64\n"
     ]
    }
   ],
   "source": [
    "s1 = pd.Series(np.random.rand(3),index=[\"a\",\"b\",\"c\"])\n",
    "s1[0] = 100 #change value\n",
    "s1['d'] = 99  #add element\n",
    "s2 = pd.Series(np.random.rand(3),index=[\"e\",\"f\",\"g\"])\n",
    "s3 = s1.append(s2) #append add an array directly, \n",
    "#But do not change the previous array\n",
    "print(s3)"
   ]
  },
  {
   "cell_type": "code",
   "execution_count": 75,
   "metadata": {},
   "outputs": [
    {
     "name": "stdout",
     "output_type": "stream",
     "text": [
      "     0    1\n",
      "a  1.0  NaN\n",
      "b  3.0  NaN\n",
      "c  2.0  NaN\n",
      "d  NaN  4.0\n",
      "e  NaN  2.0\n",
      "f  NaN  3.0\n"
     ]
    }
   ],
   "source": [
    "s1 = pd.Series([1,2,3],index=[\"a\",'c','b'])\n",
    "s2 = pd.Series([2,3,4],index=['e','f',\"d\"])\n",
    "#print(pd.concat([s1,s2])) #row +row\n",
    "print(pd.concat([s1,s2],axis=1).sort_index()) #Dataframe"
   ]
  },
  {
   "cell_type": "code",
   "execution_count": 82,
   "metadata": {},
   "outputs": [
    {
     "name": "stdout",
     "output_type": "stream",
     "text": [
      "     0    1\n",
      "a  1.0  NaN\n",
      "b  2.0  2.0\n",
      "c  3.0  3.0\n",
      "d  NaN  4.0\n"
     ]
    }
   ],
   "source": [
    "s1 = pd.Series([1,2,3],index=[\"a\",'b',\"c\"])\n",
    "s2 = pd.Series([2,3,4],index=['b','c',\"d\"])\n",
    "print(pd.concat([s1,s2],axis=1,join = \"outer\")) \n",
    "#\"inner is intersection without NAN, outer is the union"
   ]
  },
  {
   "cell_type": "code",
   "execution_count": 94,
   "metadata": {},
   "outputs": [],
   "source": [
    "data1 = {\"a\":[1,2,3],\"b\":[4,5,6],\"c\":[7,8,9]}\n",
    "data2 = {\"one\":np.random.rand(3),\"two\":np.random.rand(3)}\n",
    "pd.DataFrame(data1,columns=[\"c\",\"a\",\"b\",\"d\"],index = [\"e\",\"f\",\"g\"])"
   ]
  },
  {
   "cell_type": "code",
   "execution_count": 95,
   "metadata": {},
   "outputs": [
    {
     "data": {
      "text/html": [
       "<div>\n",
       "<style scoped>\n",
       "    .dataframe tbody tr th:only-of-type {\n",
       "        vertical-align: middle;\n",
       "    }\n",
       "\n",
       "    .dataframe tbody tr th {\n",
       "        vertical-align: top;\n",
       "    }\n",
       "\n",
       "    .dataframe thead th {\n",
       "        text-align: right;\n",
       "    }\n",
       "</style>\n",
       "<table border=\"1\" class=\"dataframe\">\n",
       "  <thead>\n",
       "    <tr style=\"text-align: right;\">\n",
       "      <th></th>\n",
       "      <th>one</th>\n",
       "      <th>two</th>\n",
       "    </tr>\n",
       "  </thead>\n",
       "  <tbody>\n",
       "    <tr>\n",
       "      <th>a</th>\n",
       "      <td>0.434705</td>\n",
       "      <td>NaN</td>\n",
       "    </tr>\n",
       "    <tr>\n",
       "      <th>b</th>\n",
       "      <td>0.510854</td>\n",
       "      <td>NaN</td>\n",
       "    </tr>\n",
       "    <tr>\n",
       "      <th>c</th>\n",
       "      <td>NaN</td>\n",
       "      <td>0.946298</td>\n",
       "    </tr>\n",
       "    <tr>\n",
       "      <th>d</th>\n",
       "      <td>NaN</td>\n",
       "      <td>0.434948</td>\n",
       "    </tr>\n",
       "  </tbody>\n",
       "</table>\n",
       "</div>"
      ],
      "text/plain": [
       "        one       two\n",
       "a  0.434705       NaN\n",
       "b  0.510854       NaN\n",
       "c       NaN  0.946298\n",
       "d       NaN  0.434948"
      ]
     },
     "execution_count": 95,
     "metadata": {},
     "output_type": "execute_result"
    }
   ],
   "source": [
    "# 2 Dataframe can be created by Series dict\n",
    "data1 = {\"one\":pd.Series(np.random.rand(2)),\n",
    "         \"two\":pd.Series(np.random.rand(3))} #without index\n",
    "data2 = {\"one\":pd.Series(np.random.rand(2),index = [\"a\",\"b\"]),\n",
    "         \"two\":pd.Series(np.random.rand(2),index = [\"c\",\"d\"])}\n",
    "pd.DataFrame(data2)"
   ]
  },
  {
   "cell_type": "code",
   "execution_count": 98,
   "metadata": {},
   "outputs": [
    {
     "data": {
      "text/html": [
       "<div>\n",
       "<style scoped>\n",
       "    .dataframe tbody tr th:only-of-type {\n",
       "        vertical-align: middle;\n",
       "    }\n",
       "\n",
       "    .dataframe tbody tr th {\n",
       "        vertical-align: top;\n",
       "    }\n",
       "\n",
       "    .dataframe thead th {\n",
       "        text-align: right;\n",
       "    }\n",
       "</style>\n",
       "<table border=\"1\" class=\"dataframe\">\n",
       "  <thead>\n",
       "    <tr style=\"text-align: right;\">\n",
       "      <th></th>\n",
       "      <th>0</th>\n",
       "      <th>1</th>\n",
       "      <th>2</th>\n",
       "    </tr>\n",
       "  </thead>\n",
       "  <tbody>\n",
       "    <tr>\n",
       "      <th>0</th>\n",
       "      <td>0.051783</td>\n",
       "      <td>0.576152</td>\n",
       "      <td>0.013635</td>\n",
       "    </tr>\n",
       "    <tr>\n",
       "      <th>1</th>\n",
       "      <td>0.766828</td>\n",
       "      <td>0.958235</td>\n",
       "      <td>0.943742</td>\n",
       "    </tr>\n",
       "    <tr>\n",
       "      <th>2</th>\n",
       "      <td>0.187434</td>\n",
       "      <td>0.817743</td>\n",
       "      <td>0.540269</td>\n",
       "    </tr>\n",
       "  </tbody>\n",
       "</table>\n",
       "</div>"
      ],
      "text/plain": [
       "          0         1         2\n",
       "0  0.051783  0.576152  0.013635\n",
       "1  0.766828  0.958235  0.943742\n",
       "2  0.187434  0.817743  0.540269"
      ]
     },
     "execution_count": 98,
     "metadata": {},
     "output_type": "execute_result"
    }
   ],
   "source": [
    "ar = np.random.rand(9).reshape(3,3)\n",
    "pd.DataFrame(ar)"
   ]
  },
  {
   "cell_type": "code",
   "execution_count": 100,
   "metadata": {},
   "outputs": [
    {
     "data": {
      "text/html": [
       "<div>\n",
       "<style scoped>\n",
       "    .dataframe tbody tr th:only-of-type {\n",
       "        vertical-align: middle;\n",
       "    }\n",
       "\n",
       "    .dataframe tbody tr th {\n",
       "        vertical-align: top;\n",
       "    }\n",
       "\n",
       "    .dataframe thead th {\n",
       "        text-align: right;\n",
       "    }\n",
       "</style>\n",
       "<table border=\"1\" class=\"dataframe\">\n",
       "  <thead>\n",
       "    <tr style=\"text-align: right;\">\n",
       "      <th></th>\n",
       "      <th>a</th>\n",
       "      <th>b</th>\n",
       "      <th>c</th>\n",
       "    </tr>\n",
       "  </thead>\n",
       "  <tbody>\n",
       "    <tr>\n",
       "      <th>0</th>\n",
       "      <td>1</td>\n",
       "      <td>2</td>\n",
       "      <td>NaN</td>\n",
       "    </tr>\n",
       "    <tr>\n",
       "      <th>1</th>\n",
       "      <td>5</td>\n",
       "      <td>6</td>\n",
       "      <td>8.0</td>\n",
       "    </tr>\n",
       "  </tbody>\n",
       "</table>\n",
       "</div>"
      ],
      "text/plain": [
       "   a  b    c\n",
       "0  1  2  NaN\n",
       "1  5  6  8.0"
      ]
     },
     "execution_count": 100,
     "metadata": {},
     "output_type": "execute_result"
    }
   ],
   "source": [
    "data1 = [{\"a\":1,\"b\":2},{\"a\":5,\"b\":6,\"c\":8}]\n",
    "pd.DataFrame(data1)"
   ]
  }
 ],
 "metadata": {
  "kernelspec": {
   "display_name": "Python 3",
   "language": "python",
   "name": "python3"
  },
  "language_info": {
   "codemirror_mode": {
    "name": "ipython",
    "version": 3
   },
   "file_extension": ".py",
   "mimetype": "text/x-python",
   "name": "python",
   "nbconvert_exporter": "python",
   "pygments_lexer": "ipython3",
   "version": "3.8.5"
  }
 },
 "nbformat": 4,
 "nbformat_minor": 4
}
