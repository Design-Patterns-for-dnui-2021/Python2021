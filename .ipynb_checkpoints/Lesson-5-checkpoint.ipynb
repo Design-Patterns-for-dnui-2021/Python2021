{
 "cells": [
  {
   "cell_type": "code",
   "execution_count": 2,
   "metadata": {},
   "outputs": [
    {
     "name": "stdout",
     "output_type": "stream",
     "text": [
      "x is greater equal than 5\n"
     ]
    }
   ],
   "source": [
    "def f(x):\n",
    "    if x < 5:\n",
    "        print(\"x is lower than 5\")\n",
    "    else:\n",
    "        print(\"x is greater equal than 5\")\n",
    "f(10)"
   ]
  },
  {
   "cell_type": "code",
   "execution_count": 7,
   "metadata": {},
   "outputs": [
    {
     "name": "stdout",
     "output_type": "stream",
     "text": [
      "None\n",
      "32\n"
     ]
    }
   ],
   "source": [
    "def f1(x):\n",
    "    y = 2 ** x\n",
    "def f2(x):\n",
    "    y = 2 ** x\n",
    "    return y\n",
    "print(f1(2))\n",
    "print(f2(5))"
   ]
  },
  {
   "cell_type": "code",
   "execution_count": 8,
   "metadata": {},
   "outputs": [
    {
     "name": "stdout",
     "output_type": "stream",
     "text": [
      "Jackis 18 years old\n"
     ]
    }
   ],
   "source": [
    "def hello(name,age):\n",
    "    print(name+\" is \"+str(age)+\" years old\")\n",
    "hello(\"Jack\",18)"
   ]
  }
 ],
 "metadata": {
  "kernelspec": {
   "display_name": "Python 3",
   "language": "python",
   "name": "python3"
  },
  "language_info": {
   "codemirror_mode": {
    "name": "ipython",
    "version": 3
   },
   "file_extension": ".py",
   "mimetype": "text/x-python",
   "name": "python",
   "nbconvert_exporter": "python",
   "pygments_lexer": "ipython3",
   "version": "3.8.5"
  }
 },
 "nbformat": 4,
 "nbformat_minor": 4
}
