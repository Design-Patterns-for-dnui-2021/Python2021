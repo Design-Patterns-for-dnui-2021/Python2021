{
 "cells": [
  {
   "cell_type": "code",
   "execution_count": 13,
   "metadata": {},
   "outputs": [
    {
     "name": "stdout",
     "output_type": "stream",
     "text": [
      "1 1 1 5\n"
     ]
    }
   ],
   "source": [
    "hello, world = 5,4  #add comma , maltivariable assignment\n",
    "a = b = c = 1   # a =1; b=1; c=1\n",
    "print(a,b,c,hello)"
   ]
  },
  {
   "cell_type": "code",
   "execution_count": 33,
   "metadata": {
    "scrolled": true
   },
   "outputs": [
    {
     "name": "stdout",
     "output_type": "stream",
     "text": [
      "3.0\n",
      "125\n",
      "2\n",
      "1\n",
      "10.0\n"
     ]
    }
   ],
   "source": [
    "#+addition -substraction *multiplication / division\n",
    "print(3+4-2*6/3)  #\n",
    "# ** is the power of a value  2**3 = 2*2*2 =8 \n",
    "print(5**3)\n",
    "#// back slash Take the integer division  \n",
    "print(8//3)   #2\n",
    "#% precent sign.   Modular operation -Returns the remainder of division\n",
    "a = 21\n",
    "b = 10\n",
    "print(a%b)   #20 = 10 * 2 +1 \n",
    "# calculate the equation 40 - 3 ** 2 +8/2**3 *10\n",
    "print(8/(2**3) *10)  \n",
    "# + - has the lower precedence, * /  middle,  ** has higher precedence,\n",
    "#so ** runs first, if we want some block runs first we need add parentheses\n",
    "#in 8/2**3 *10 , which part runs first? 8/2 or  2**3 or 2 *10\n",
    "\n"
   ]
  },
  {
   "cell_type": "code",
   "execution_count": 49,
   "metadata": {},
   "outputs": [
    {
     "name": "stdout",
     "output_type": "stream",
     "text": [
      "1\n",
      "7\n",
      "5\n"
     ]
    }
   ],
   "source": [
    "#if i want to get 1,7,5 from 175, How to do?  \n",
    "a = 175\n",
    "print(a//100)       #1\n",
    "print(a //10 % 10)    #print(int(135 /10 % 10))   print(135//10 -10)    #\n",
    "print(a % 10) "
   ]
  },
  {
   "cell_type": "code",
   "execution_count": 60,
   "metadata": {
    "scrolled": true
   },
   "outputs": [
    {
     "name": "stdout",
     "output_type": "stream",
     "text": [
      "True\n",
      "False\n",
      "True\n",
      "False\n",
      "False\n",
      "False\n"
     ]
    }
   ],
   "source": [
    "#compare calculation: > greater < lower <= greater equal \n",
    "# >= lower equal == equal  != not equal\n",
    "print(5 != 3)\n",
    "\n",
    "#logic calculation ---3 keyword:and or not\n",
    "print( 3 > 2 and  4 <= 3 )  # both of them is true ,the result is true\n",
    "print( 3 > 2 or  4 <= 3 )  # one of them is true ,the result is true\n",
    "print(not 3 > 2)\n",
    "\n",
    "#member operator: -- keyword: in / not in ,it is useally used in list and dict\n",
    "ls = [1,2,3,4]\n",
    "print(2 not in ls)\n",
    "dict1 = {\"name\":\"yan\",\"age\":18}\n",
    "print(\"name\" not in dict1)"
   ]
  },
  {
   "cell_type": "code",
   "execution_count": 61,
   "metadata": {},
   "outputs": [
    {
     "name": "stdout",
     "output_type": "stream",
     "text": [
      "1\n",
      "hello world\n"
     ]
    }
   ],
   "source": [
    "x = 1\n",
    "print(x)\n",
    "x = \"hello world\"\n",
    "print(x)"
   ]
  },
  {
   "cell_type": "code",
   "execution_count": 62,
   "metadata": {},
   "outputs": [
    {
     "data": {
      "text/plain": [
       "[1, 2, 3, 4, 'hello', 'world', [5, 6, 7], 1.3, 5.4]"
      ]
     },
     "execution_count": 62,
     "metadata": {},
     "output_type": "execute_result"
    }
   ],
   "source": [
    "list1 = [1,2,3,4,\"hello\",\"world\",[5,6,7],1.3,5.4]\n",
    "list1"
   ]
  },
  {
   "cell_type": "code",
   "execution_count": 66,
   "metadata": {},
   "outputs": [
    {
     "name": "stdout",
     "output_type": "stream",
     "text": [
      "[1, 2, 3, 4, 5, 6]\n"
     ]
    }
   ],
   "source": [
    "x = [1,2,3]\n",
    "y = [4,5,6]\n",
    "#print(x+y, x*2)  #  link and repeat\n",
    "# 2 function to control list : append, extend\n",
    "x.append(y)  #append add a new element\n",
    "print(x) #[1, 2, 3, [4, 5, 6]]\n",
    "x.extend(y)\n",
    "print(x)  #[1, 2, 3, 4, 5, 6]\n",
    "#append modifiy the original list itself, whileise +create a new one [1,2,3]+['Jack']"
   ]
  },
  {
   "cell_type": "code",
   "execution_count": 89,
   "metadata": {},
   "outputs": [
    {
     "name": "stdout",
     "output_type": "stream",
     "text": [
      "[9, 8, 7, 6, 5, 4, 3, 2, 1]\n"
     ]
    }
   ],
   "source": [
    "list2 = [1, 2, 3, 4, 5, 6, 7, 8, 9]\n",
    "list3 = [1,2,3,4,\"hello\",\"world\",[5,6,7],1.3,5.4]\n",
    "list4 = [1,2,[5,6,7],1,2,3,4,\"hello\",\"world\",[5,6,7],1.3,5.4]\n",
    "#print(list3[6][2])  #use position/subscript/index get the element\n",
    "#print(list4[-2]) \n",
    "# if we use negative number , it count from right to  left, -1 is the last element\n",
    "#slicing:add some colons , start : stop(limit) number : step\n",
    "#the stop number is not included in this range\n",
    "#print(list2[0:80:3]) \n",
    "#print(list2[2::])   # list2[0:10:1]\n",
    "print(list2[-1::-1]) # count from right to left,parameters can be set as negative number"
   ]
  },
  {
   "cell_type": "code",
   "execution_count": 106,
   "metadata": {},
   "outputs": [
    {
     "name": "stdout",
     "output_type": "stream",
     "text": [
      "2\n"
     ]
    }
   ],
   "source": [
    "#some build-in function  len --length of a list\n",
    "list2 = [1, 2, 3, 4, 5, 6, 7, 8,3] # '' is string\n",
    "#print(len(list2),list2.count(3) )\n",
    "#max , min , sum \n",
    "# these function are defined for the list of neumber only\n",
    "#print(max(list2), min(list2), sum(list2))\n",
    "#index \n",
    "#print(list2.index(3))\n",
    "#Question\n",
    "x = [1,2,3,1,[1],[1,1],'1']\n",
    "#what is the different between type(x[1]) and type(x[1:2])？ int vs list\n",
    "#what is the value of x.index(1),x.count(1)？ # 0 , 2"
   ]
  },
  {
   "cell_type": "code",
   "execution_count": 125,
   "metadata": {},
   "outputs": [
    {
     "name": "stdout",
     "output_type": "stream",
     "text": [
      "[0, 'hello', 1, 2, 3, 4, 5, 6, 7, 8, 9]\n"
     ]
    }
   ],
   "source": [
    "#generator: it is comma , not colons , start : limit number : step\n",
    "b = range(10)\n",
    "c = list(range(10))\n",
    "#print(c)\n",
    "#remove an element\n",
    "#c.remove(5)\n",
    "#del is a sentence , slice\n",
    "#del c[2:4] \n",
    "#c.clear() #clear the whole list\n",
    "c.insert(1,\"hello\") #insert(index, value),index this the position of this list\n",
    "print(c)"
   ]
  },
  {
   "cell_type": "code",
   "execution_count": 129,
   "metadata": {},
   "outputs": [
    {
     "name": "stdout",
     "output_type": "stream",
     "text": [
      "[0, 1, 2, 3, 4, 5, 6, 7] [0, 100, 2, 3, 4, 5, 6, 7]\n"
     ]
    }
   ],
   "source": [
    "f = list(range(8))\n",
    "#g = f\n",
    "g = f.copy()  \n",
    "#copy points to another new list\n",
    "#the direct assignment points to the same list\n",
    "g[1] = 100\n",
    "print(f,g)"
   ]
  },
  {
   "cell_type": "code",
   "execution_count": 140,
   "metadata": {},
   "outputs": [
    {
     "name": "stdout",
     "output_type": "stream",
     "text": [
      "[3, 5, 100, 45, 4, 78, 56] [100, 78, 56, 45, 5, 4, 3] ['abc', 'hello', 'solo', 'world']\n"
     ]
    }
   ],
   "source": [
    "j = [3, 5, 100, 45, 4, 78, 56 ] # unordered list\n",
    "k = ['abc','hello','solo','world']\n",
    "#j.sort(reverse = False)  # ordered, numbers are arranged sequentially\n",
    "k.sort() #letters are arranged in alphabetical order\n",
    "m = sorted(j,reverse = True) \n",
    "#sort and copy a list, so j is not changed\n",
    "print(j,m,k)"
   ]
  }
 ],
 "metadata": {
  "kernelspec": {
   "display_name": "Python 3",
   "language": "python",
   "name": "python3"
  },
  "language_info": {
   "codemirror_mode": {
    "name": "ipython",
    "version": 3
   },
   "file_extension": ".py",
   "mimetype": "text/x-python",
   "name": "python",
   "nbconvert_exporter": "python",
   "pygments_lexer": "ipython3",
   "version": "3.8.5"
  }
 },
 "nbformat": 4,
 "nbformat_minor": 4
}
