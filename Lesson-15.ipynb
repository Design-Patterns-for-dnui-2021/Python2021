{
 "cells": [
  {
   "cell_type": "code",
   "execution_count": 3,
   "metadata": {},
   "outputs": [],
   "source": [
    "import numpy as np\n",
    "import pandas as pd\n",
    "import matplotlib.pyplot as plt\n",
    "from sklearn.linear_model import LinearRegression\n",
    "import os\n",
    "%matplotlib inline"
   ]
  },
  {
   "cell_type": "code",
   "execution_count": 11,
   "metadata": {},
   "outputs": [
    {
     "name": "stdout",
     "output_type": "stream",
     "text": [
      "The data_counts of  1 th data is：31\n",
      "The columns of 1 data is： ['date', 'productA', 'productB']\n",
      "The nan_counts 1  data is：：3\n",
      "The data_counts of  2 th data is：28\n",
      "The columns of 2 data is： ['date', 'productA', 'productB']\n",
      "The nan_counts 2  data is：：4\n",
      "The data_counts of  3 th data is：31\n",
      "The columns of 3 data is： ['date', 'productA', 'productB']\n",
      "The nan_counts 3  data is：：3\n",
      "finished\n"
     ]
    }
   ],
   "source": [
    "#task1:output data_counts\\columns\\nan_counts\n",
    "#os.chdir(r'C:\\Users\\everi\\Desktop\\Code\\Python\\Py2021\\Lesson-15\\') \n",
    "path = 'C:/Users/everi/Desktop/Code/Python/Py2021/Lesson-15/'\n",
    "folder = os.walk(path)\n",
    "files = list(folder)[0][2]\n",
    "n = 1\n",
    "for i in files:\n",
    "    file = path + i\n",
    "    data = pd.read_excel(file) #read_excel\n",
    "    data_counts = len(data)  #data number\n",
    "    columns = data.columns.tolist() #output column\n",
    "    nan_counts = len(data[data.isnull().values == True])  # missing data ==nan\n",
    "    print('The data_counts of  %i th data is：%i' % (n, data_counts))\n",
    "    print('The columns of %i data is：' % n,columns)\n",
    "    print('The nan_counts %i  data is：：%i' % (n, nan_counts))\n",
    "    n += 1\n",
    "print(\"finished\")"
   ]
  },
  {
   "cell_type": "code",
   "execution_count": 14,
   "metadata": {},
   "outputs": [
    {
     "name": "stdout",
     "output_type": "stream",
     "text": [
      "              productA    productB\n",
      "date                              \n",
      "2018-01-01  270.997943  371.615646\n",
      "2018-01-02  638.322113  788.081579\n",
      "2018-01-03  364.454658  454.279288\n",
      "2018-01-04  251.432000  340.337651\n",
      "2018-01-05  261.411794  419.372368 \n",
      "-----\n",
      "The date that exceeds 80% in product A is\n",
      " ['2018-01-26 00:00:00', '2018-02-23 00:00:00', '2018-03-25 00:00:00']\n"
     ]
    },
    {
     "data": {
      "text/plain": [
       "['2018-01-26 00:00:00', '2018-02-23 00:00:00', '2018-03-25 00:00:00']"
      ]
     },
     "execution_count": 14,
     "metadata": {},
     "output_type": "execute_result"
    },
    {
     "data": {
      "text/plain": [
       "<Figure size 432x288 with 0 Axes>"
      ]
     },
     "metadata": {},
     "output_type": "display_data"
    },
    {
     "data": {
      "image/png": "[encoded data removed]",
      "text/plain": [
       "<Figure size 576x288 with 1 Axes>"
      ]
     },
     "metadata": {
      "needs_background": "light"
     },
     "output_type": "display_data"
    }
   ],
   "source": [
    "# 1. change date to_period and output Dataframe with data1,data2,data3\n",
    "def f2_1():\n",
    "    path = 'C:/Users/everi/Desktop/Code/Python/Py2021/Lesson-15/'\n",
    "    folder = os.walk(path)  \n",
    "    files = list(folder)[0][2]\n",
    "    data_files = []\n",
    "    for i in files:\n",
    "        file = path + i\n",
    "        data = pd.read_excel(file,index_col = 0)\n",
    "        columns = data.columns.tolist()  # Extract column name\n",
    "        data.to_period()  # change date to time series\n",
    "        data[columns[0]].fillna(data[columns[0]].mean(),inplace = True)  \n",
    "        data[columns[1]].fillna(data[columns[1]].mean(),inplace = True)\n",
    "        #  fill missing value with mean\n",
    "        data_files.append(data)\n",
    "    return(data_files)\n",
    "\n",
    "\n",
    "# 1.Calculate the total monthly sales of products A and B\n",
    "# 2.Draw multi series histogram & save\n",
    " \n",
    "def f2_2(*data_files):\n",
    "    path = 'C:/Users/everi/Desktop/Code/Python/Py2021/Lesson-15/'\n",
    "    A_sale = []\n",
    "    B_sale = []\n",
    "    for data in data_files:\n",
    "        columns = data.columns #Extract column name\n",
    "        A_sale.append(data[columns[0]].sum())   # Update total sales of product A\n",
    "        B_sale.append(data[columns[1]].sum())   # B\n",
    "    df = pd.DataFrame({'A_sale_sum': A_sale,'B_sale_sum':B_sale},\n",
    "                     index = pd.period_range('201801','201803',freq = 'M'))\n",
    "    #print(df)   \n",
    "    plt.figure()\n",
    "    df.plot(kind = 'bar',style = '--o',color = ['r','g'],alpha = 0.8, rot = 0,figsize = (8,4))\n",
    "    plt.title('Sales  histogram')\n",
    "    plt.ylim([0,25000])\n",
    "    plt.legend(loc = 'upper left')\n",
    "    plt.grid()\n",
    "    plt.savefig(path + 'Products A,B Histogram.png',dpi=400)\n",
    "    \n",
    "\n",
    "    \n",
    "# Record the date when the sales volume exceeds 80%  \n",
    "def f2_3(*data_files):\n",
    "    keydates = []\n",
    "    for data in data_files:\n",
    "        columns = data.columns \n",
    "        data['A_sale_sum%'] = data[columns[0]].cumsum() / data[columns[0]].sum()  \n",
    "        keydate = data[data['A_sale_sum%']>0.8].index[0]  \n",
    "        keydates.append(str(keydate))\n",
    "    print('The date that exceeds 80% in product A is\\n', keydates)\n",
    "    return(keydates)\n",
    "\n",
    "\n",
    "f2_1()\n",
    "data1, data2, data3 = f2_1()[0], f2_1()[1], f2_1()[2]\n",
    "print(data1.head(),'\\n-----')\n",
    "f2_2(data1,data2,data3)\n",
    "f2_3(data1,data2,data3)"
   ]
  },
  {
   "cell_type": "code",
   "execution_count": 17,
   "metadata": {},
   "outputs": [
    {
     "name": "stdout",
     "output_type": "stream",
     "text": [
      " View AB product sales relationship\n",
      "-------\n"
     ]
    },
    {
     "name": "stderr",
     "output_type": "stream",
     "text": [
      "<ipython-input-17-ec8e8a66e32c>:25: FutureWarning: Support for multi-dimensional indexing (e.g. `obj[:, None]`) is deprecated and will be removed in a future version.  Convert to a numpy array before indexing instead.\n",
      "  model.fit(data['productA'][:,np.newaxis],data['productB'])\n"
     ]
    },
    {
     "data": {
      "text/plain": [
       "array([1303.84193309])"
      ]
     },
     "execution_count": 17,
     "metadata": {},
     "output_type": "execute_result"
    },
    {
     "data": {
      "image/png": "[encoded data removed]",
      "text/plain": [
       "<Figure size 432x288 with 1 Axes>"
      ]
     },
     "metadata": {
      "needs_background": "light"
     },
     "output_type": "display_data"
    }
   ],
   "source": [
    "#1.delete missing values,Convert date to time series\n",
    "\n",
    "def f3_1():\n",
    "    path = 'C:/Users/everi/Desktop/Code/Python/Py2021/Lesson-15/'\n",
    "    folder = os.walk(path)  \n",
    "    files = list(folder)[0][2]\n",
    "    data_files = []\n",
    "    for i in files:\n",
    "        file = path + i\n",
    "        data = pd.read_excel(file,index_col = 0)\n",
    "        columns = data.columns.tolist()  # Extract column name\n",
    "        data.to_period()  # Convert to time series\n",
    "        data.dropna(inplace=True)  # Delete missing values\n",
    "        data_files.append(data)\n",
    "    data = pd.concat([data_files[0],data_files[1],data_files[2]])  # Merge data\n",
    "#     print(data)\n",
    "    return(data)\n",
    "\n",
    "\n",
    "#1.When the sales of product a is 1200, predict the sales volume of product B\n",
    "#2.Draw scatter and store the picture\n",
    "def f3_2(data):\n",
    "    path = 'C:/Users/everi/Desktop/Code/Python/Py2021/'\n",
    "    model = LinearRegression()\n",
    "    model.fit(data['productA'][:,np.newaxis],data['productB'])  \n",
    "    # build LinearRegression model\n",
    "    xtest = np.linspace(0,1000,1000)\n",
    "    ytest = model.predict(xtest[:,np.newaxis])\n",
    "    plt.scatter(data['productA'],data['productB'],marker = '.',color = 'k')\n",
    "    plt.plot(xtest,ytest,color = 'r')\n",
    "    plt.grid(True)\n",
    "    plt.title('Products A-B Sales LinearRegression')\n",
    "#     plt.savefig(path + 'A-B sale prediction.png',dpi=400)  \n",
    "    # save pic\n",
    "    predict_sales = 1200\n",
    "    predict_sales = np.array(predict_sales).reshape(-1, 1)\n",
    "    return(model.predict(predict_sales))\n",
    "\n",
    "f3_1()\n",
    "data = f3_1()\n",
    "print(' View AB product sales relationship\\n-------')\n",
    "\n",
    "f3_2(data)"
   ]
  }
 ],
 "metadata": {
  "kernelspec": {
   "display_name": "Python 3",
   "language": "python",
   "name": "python3"
  },
  "language_info": {
   "codemirror_mode": {
    "name": "ipython",
    "version": 3
   },
   "file_extension": ".py",
   "mimetype": "text/x-python",
   "name": "python",
   "nbconvert_exporter": "python",
   "pygments_lexer": "ipython3",
   "version": "3.8.5"
  }
 },
 "nbformat": 4,
 "nbformat_minor": 4
}
