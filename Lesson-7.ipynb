{
 "cells": [
  {
   "cell_type": "code",
   "execution_count": 5,
   "metadata": {},
   "outputs": [
    {
     "name": "stdout",
     "output_type": "stream",
     "text": [
      "C:\\Users\\everi\\Desktop\\Code\\Python\\Py2021\n"
     ]
    }
   ],
   "source": [
    "import os   #operating system\n",
    "#    \\t    escape character\n",
    "path1 = r\"C:\\Users\\everi\\Desktop\\Code\\Python\\Py2021\"         #We use r to prevent character escape\n",
    "path2 = \"C:\\\\Users\\\\everi\\\\Desktop\\\\Code\\\\Python\\\\Py2021\"    #2 back slashes \\\\\n",
    "path3 = os.path.dirname(os.path.abspath('__file__'))          #directory \n",
    "print(path3)"
   ]
  },
  {
   "cell_type": "markdown",
   "metadata": {},
   "source": []
  },
  {
   "cell_type": "code",
   "execution_count": 6,
   "metadata": {},
   "outputs": [
    {
     "name": "stdout",
     "output_type": "stream",
     "text": [
      "The Zen of Python, by Tim Peters\n",
      "\n",
      "Beautiful is better than ugly.\n",
      "Explicit is better than implicit.\n",
      "Simple is better than complex.\n",
      "Complex is better than complicated.\n",
      "Flat is better than nested.\n",
      "Sparse is better than dense.\n",
      "Readability counts.\n",
      "Special cases aren't special enough to break the rules.\n",
      "Although practicality beats purity.\n",
      "Errors should never pass silently.\n",
      "Unless explicitly silenced.\n",
      "In the face of ambiguity, refuse the temptation to guess.\n",
      "There should be one-- and preferably only one --obvious way to do it.\n",
      "Although that way may not be obvious at first unless you're Dutch.\n",
      "Now is better than never.\n",
      "Although never is often better than *right* now.\n",
      "If the implementation is hard to explain, it's a bad idea.\n",
      "If the implementation is easy to explain, it may be a good idea.\n",
      "Namespaces are one honking great idea -- let's do more of those!\n"
     ]
    }
   ],
   "source": [
    "import this # poem  for python"
   ]
  },
  {
   "cell_type": "code",
   "execution_count": 15,
   "metadata": {},
   "outputs": [
    {
     "name": "stdout",
     "output_type": "stream",
     "text": [
      "Beautiful is better than ugly.\n",
      "Explicit is better than implicit.\n",
      "Simple is better than complex.\n",
      "Complex is better than complicated.\n",
      "Flat is better than nested.\n",
      "Sparse is better than dense.\n",
      "Readability counts.\n",
      "reading completed\n",
      "Beautiful is better than ugly.\n",
      "Explicit is better than implicit.\n",
      "Simple is better than complex.\n",
      "Complex is better than complicated.\n",
      "Flat is better than nested.\n",
      "Sparse is better than dense.\n",
      "Readability counts.\n"
     ]
    }
   ],
   "source": [
    "path4 = \"C:\\\\Users\\\\everi\\\\Desktop\\\\Code\\\\Python\\\\Py2021\\\\hello.txt\"    #2 back slashes \\\\\n",
    "f = open(path4, 'r')  #mode:  r means read, w means write,  encoding ='utf8'\n",
    "#print(type(f))\n",
    "#print(f)\n",
    "print(f.read())#output the content, after this cursor is in the end of file \n",
    "print(\"reading completed\")\n",
    "f.seek(0)  #move the cursor to the begining of the file\n",
    "print(f.read())\n",
    "f.close()  #close the IO operation"
   ]
  },
  {
   "cell_type": "code",
   "execution_count": 36,
   "metadata": {},
   "outputs": [
    {
     "name": "stdout",
     "output_type": "stream",
     "text": [
      "C:\\Users\\everi\\Desktop\\Code\\Python\\Py2021\n",
      "C:\\Users\\everi\\Desktop\\Code\\Python\n",
      "True\n",
      "('C:\\\\Users\\\\everi\\\\Desktop\\\\Code\\\\Python\\\\Py2021', 'hello.txt')\n"
     ]
    }
   ],
   "source": [
    "import os   #operating system\n",
    "path5 = \"C:\\\\Users\\\\everi\\\\Desktop\\\\Code\\\\Python\\\\Py2021\"         #directory \n",
    "#print(os.name)  #nt means windows, Linux/unix 'posix'\n",
    "#print(os.listdir())  #file and directory name\n",
    "#print(os.getcwd())  #current work directory\n",
    "#os.remove('a.txt')\n",
    "print(path5)\n",
    "os.chdir(r'C:\\Users\\everi\\Desktop\\Code\\Python')  #change the directory to a target directory\n",
    "print(os.getcwd())  #current work directory\n",
    "print(os.path.exists(r\"C:\\Users\\everi\\Desktop\\Code\\Python\\Py2021\\hello.txt\")) \n",
    "print(os.path.split(r\"C:\\Users\\everi\\Desktop\\Code\\Python\\Py2021\\hello.txt\"))\n",
    "# return the directory name,and file name"
   ]
  },
  {
   "cell_type": "code",
   "execution_count": 45,
   "metadata": {},
   "outputs": [
    {
     "name": "stdout",
     "output_type": "stream",
     "text": [
      "<class 'str'> Beautiful is better than ugly.\n",
      "\n",
      "<class 'str'> Explicit is better than implicit.\n",
      "\n",
      "<class 'str'> Simple is better than complex.\n",
      "\n",
      "<class 'str'> Complex is better than complicated.\n",
      "\n",
      "<class 'str'> Flat is better than nested.\n",
      "\n",
      "<class 'str'> Sparse is better than dense.\n",
      "\n",
      "<class 'str'> Readability counts.\n"
     ]
    }
   ],
   "source": [
    "#File reading \n",
    "path6 = \"C:\\\\Users\\\\everi\\\\Desktop\\\\Code\\\\Python\\\\Py2021\\\\hello.txt\"    #2 back slashes \\\\\n",
    "f = open(path6, 'r')  #mode:  r means read, w means write,  encoding ='utf8'\n",
    "f.seek(0)\n",
    "#print(f.readline(4))  #first 4 characters of a line\n",
    "#print(f.readlines())\n",
    "for line in f.readlines():\n",
    "    print(type(line),line)"
   ]
  },
  {
   "cell_type": "code",
   "execution_count": 48,
   "metadata": {},
   "outputs": [
    {
     "name": "stdout",
     "output_type": "stream",
     "text": [
      "finished\n"
     ]
    }
   ],
   "source": [
    "#File writing \n",
    "path7 = \"C:\\\\Users\\\\everi\\\\Desktop\\\\Code\\\\Python\\\\Py2021\\\\test.txt\"    #2 back slashes \\\\\n",
    "#create an empty file 'test.txt',and add the content \"hello world\" inside of it\n",
    "f = open(path7, 'w',encoding ='utf8')  #change the mode\n",
    "f.write(\"hello world\")\n",
    "f.close() #close writing operation\n",
    "print(\"finished\")"
   ]
  },
  {
   "cell_type": "code",
   "execution_count": 50,
   "metadata": {},
   "outputs": [
    {
     "name": "stdout",
     "output_type": "stream",
     "text": [
      "finished\n"
     ]
    }
   ],
   "source": [
    "path8 = \"C:\\\\Users\\\\everi\\\\Desktop\\\\Code\\\\Python\\\\Py2021\\\\test.txt\"   \n",
    "f = open(path8, 'w',encoding ='utf8')  \n",
    "lst = ['a','b','c','d','e']\n",
    "f.writelines(lst)\n",
    "f.close() #close writing operation\n",
    "print(\"finished\")"
   ]
  },
  {
   "cell_type": "code",
   "execution_count": 55,
   "metadata": {},
   "outputs": [
    {
     "name": "stdout",
     "output_type": "stream",
     "text": [
      "finished\n"
     ]
    }
   ],
   "source": [
    "path9 = \"C:\\\\Users\\\\everi\\\\Desktop\\\\Code\\\\Python\\\\Py2021\\\\test.txt\"   \n",
    "f = open(path9, 'w',encoding ='utf8')  \n",
    "lst = ['a','b','c','d','e','f'] \n",
    "for i in range(len(lst)):  #0 to 4\n",
    "    lst[i] = lst[i]+'\\n'  # change style from ['a','b','c','d','e']  to ['a\\n','b\\n','c\\n','d\\n','e\\n']  \n",
    "f.writelines(lst)\n",
    "f.close() #close writing operation\n",
    "print(\"finished\")"
   ]
  },
  {
   "cell_type": "code",
   "execution_count": 57,
   "metadata": {},
   "outputs": [
    {
     "name": "stdout",
     "output_type": "stream",
     "text": [
      "finished\n"
     ]
    }
   ],
   "source": [
    "path10 = \"C:\\\\Users\\\\everi\\\\Desktop\\\\Code\\\\Python\\\\Py2021\\\\out.txt\"   \n",
    "f = open(path10, 'w',encoding ='utf8')  \n",
    "lst1 =  list(range(1,11))  #\n",
    "lst2 =  ['a','b','c','d','e','f','g','h','i','j']\n",
    "for i in range(len(lst1)):  #10 elements\n",
    "    out = [str(lst1[i]),',',lst2[i],'\\n'] \n",
    "    f.writelines(out)\n",
    "f.close() #close writing operation\n",
    "print(\"finished\")"
   ]
  },
  {
   "cell_type": "code",
   "execution_count": 64,
   "metadata": {},
   "outputs": [
    {
     "name": "stdout",
     "output_type": "stream",
     "text": [
      "a\n",
      "b\n",
      "c\n",
      "d\n",
      "e\n",
      "f\n",
      "\n"
     ]
    }
   ],
   "source": [
    "os.chdir(r'C:\\\\Users\\\\everi\\\\Desktop\\\\Code\\\\Python\\\\Py2021\\\\')  #change the directory to a target directory\n",
    "with open('test.txt') as file:\n",
    "    data = file.read()\n",
    "    print(data)  #automaticlly close the IO operation\n",
    "#style 2\n",
    "try:\n",
    "    f = open()\n",
    "except:\n",
    "    exit(-1)\n",
    "finally:\n",
    "    f.close()"
   ]
  },
  {
   "cell_type": "code",
   "execution_count": 70,
   "metadata": {},
   "outputs": [],
   "source": [
    "import pickle\n",
    "data = {'a':[1,2,3,4],'b':('hello','world'),'c':'word'}\n",
    "path11 = \"C:\\\\Users\\\\everi\\\\Desktop\\\\Code\\\\Python\\\\Py2021\\\\data.pkl\"   \n",
    "f = open(path11, 'wb') #mode: w  wb  , write binary\n",
    "pickle.dump(data,f)\n",
    "f.close()\n",
    "#dump"
   ]
  },
  {
   "cell_type": "code",
   "execution_count": 72,
   "metadata": {},
   "outputs": [
    {
     "name": "stdout",
     "output_type": "stream",
     "text": [
      "{'a': [1, 2, 3, 4], 'b': ('hello', 'world'), 'c': 'word'}\n",
      "finished\n"
     ]
    }
   ],
   "source": [
    "#load function\n",
    "f = open(path11, 'rb') #mode:rb   read binary\n",
    "st = pickle.load(f)\n",
    "print(st)\n",
    "print('finished')"
   ]
  }
 ],
 "metadata": {
  "kernelspec": {
   "display_name": "Python 3",
   "language": "python",
   "name": "python3"
  },
  "language_info": {
   "codemirror_mode": {
    "name": "ipython",
    "version": 3
   },
   "file_extension": ".py",
   "mimetype": "text/x-python",
   "name": "python",
   "nbconvert_exporter": "python",
   "pygments_lexer": "ipython3",
   "version": "3.8.5"
  }
 },
 "nbformat": 4,
 "nbformat_minor": 4
}
