{
 "cells": [
  {
   "cell_type": "code",
   "execution_count": 2,
   "metadata": {},
   "outputs": [
    {
     "name": "stdout",
     "output_type": "stream",
     "text": [
      "x is greater equal than 5\n"
     ]
    }
   ],
   "source": [
    "def f(x):\n",
    "    if x < 5:\n",
    "        print(\"x is lower than 5\")\n",
    "    else:\n",
    "        print(\"x is greater equal than 5\")\n",
    "f(10)"
   ]
  },
  {
   "cell_type": "code",
   "execution_count": 7,
   "metadata": {},
   "outputs": [
    {
     "name": "stdout",
     "output_type": "stream",
     "text": [
      "None\n",
      "32\n"
     ]
    }
   ],
   "source": [
    "def f1(x):\n",
    "    y = 2 ** x\n",
    "def f2(x):\n",
    "    y = 2 ** x\n",
    "    return y\n",
    "print(f1(2))\n",
    "print(f2(5))"
   ]
  },
  {
   "cell_type": "code",
   "execution_count": 9,
   "metadata": {},
   "outputs": [
    {
     "name": "stdout",
     "output_type": "stream",
     "text": [
      "Jack is 18 years old\n"
     ]
    }
   ],
   "source": [
    "def hello(name,age):\n",
    "    print(name+\" is \"+str(age)+\" years old\")\n",
    "hello(\"Jack\",18)"
   ]
  },
  {
   "cell_type": "code",
   "execution_count": 11,
   "metadata": {},
   "outputs": [
    {
     "name": "stdout",
     "output_type": "stream",
     "text": [
      "Jack is 19 years old\n"
     ]
    }
   ],
   "source": [
    "#default parameters\n",
    "def hello(name, age= 18):\n",
    "    print(name+\" is \"+str(age)+\" years old\")\n",
    "hello(\"Jack\",19)"
   ]
  },
  {
   "cell_type": "code",
   "execution_count": 13,
   "metadata": {},
   "outputs": [
    {
     "data": {
      "text/plain": [
       "6"
      ]
     },
     "execution_count": 13,
     "metadata": {},
     "output_type": "execute_result"
    }
   ],
   "source": [
    "def mult(x, y= 2):\n",
    "    return x*y\n",
    "mult(2,3)\n",
    "\n"
   ]
  },
  {
   "cell_type": "code",
   "execution_count": 29,
   "metadata": {},
   "outputs": [
    {
     "name": "stdout",
     "output_type": "stream",
     "text": [
      "('2', '2', ['abc', 'def'])\n"
     ]
    },
    {
     "data": {
      "text/plain": [
       "('2', '2', ['abc', 'def'])"
      ]
     },
     "execution_count": 29,
     "metadata": {},
     "output_type": "execute_result"
    }
   ],
   "source": [
    "#variable parameters:If there are serveral parameters \n",
    "#or the number is uncertain,we can use * instead\n",
    "def f(*x):\n",
    "    print(x)\n",
    "    return x  #tuple\n",
    "f(\"2\",\"2\",[\"abc\",\"def\"])"
   ]
  },
  {
   "cell_type": "code",
   "execution_count": 25,
   "metadata": {},
   "outputs": [
    {
     "name": "stdout",
     "output_type": "stream",
     "text": [
      "please input your number x = 40\n",
      "Too small\n",
      "please input your number x = 60\n",
      "Too small\n",
      "please input your number x = 80\n",
      "Too big\n",
      "please input your number x = 70\n",
      "Too small\n",
      "please input your number x = 75\n",
      "Too big\n",
      "please input your number x = 73\n",
      "Too small\n",
      "please input your number x = 74\n",
      "Right\n",
      "Congratulation\n"
     ]
    }
   ],
   "source": [
    "## Guessing numbers: The requirements are as follows：\n",
    "# Randomly generate an integer in 0-100\n",
    "# Guess a number and enter it,\n",
    "#Judge whether it is big or small until you guess correctly\n",
    "import random\n",
    "import math\n",
    "y = random.random()*100  #0-100\n",
    "z = math.ceil(y)    #int type\n",
    "def Guess():\n",
    "    while True:\n",
    "        x = int(input(\"please input your number x = \"))\n",
    "        if x ==z:\n",
    "            print(\"Right\")\n",
    "            break\n",
    "        else:\n",
    "            if x > z:\n",
    "                print(\"Too big\")\n",
    "            else:\n",
    "                print(\"Too small\")\n",
    "    print(\"Congratulation\")\n",
    "Guess()"
   ]
  },
  {
   "cell_type": "code",
   "execution_count": 36,
   "metadata": {},
   "outputs": [
    {
     "name": "stdout",
     "output_type": "stream",
     "text": [
      "local variables in function hello everyone\n",
      "hello everyone\n"
     ]
    }
   ],
   "source": [
    "a = \"abc\"  #global\n",
    "def f(x):\n",
    "    global a  #global\n",
    "    a = \"hello everyone\" #local\n",
    "    print(\"local variables in function %s\"%m)\n",
    "f(a)\n",
    "print(a)"
   ]
  },
  {
   "cell_type": "code",
   "execution_count": 43,
   "metadata": {},
   "outputs": [
    {
     "name": "stdout",
     "output_type": "stream",
     "text": [
      "6\n",
      "6\n"
     ]
    },
    {
     "data": {
      "text/plain": [
       "[89, 45, 7, 3, 2, 1, 0]"
      ]
     },
     "execution_count": 43,
     "metadata": {},
     "output_type": "execute_result"
    }
   ],
   "source": [
    "def fun(a,b,c):\n",
    "    return a+b+c\n",
    "print(fun(1,2,3))\n",
    "#lambda expression / Anonymous function\n",
    "f = lambda a,b,c:a+b+c \n",
    "#lambda is not requie function name, the body of lambda is an expression\n",
    "#It only has one line, only the limited logic can be written in lambda expression\n",
    "print(f(1,2,3))\n",
    "#practice:Create an anonymous function to find the number of elements \n",
    "list1 = [1,2,3,45,7,89,0] #7    length\n",
    "f1 = lambda lst:len(lst)\n",
    "f1(list1)\n",
    "#Define a function to sort [1,2,3,45,7,89,0]  all input numbers from large to small\n",
    "# sort   sorted\n",
    "f2 = lambda lst:sorted(lst,reverse=True)\n",
    "f2(list1)"
   ]
  },
  {
   "cell_type": "code",
   "execution_count": 53,
   "metadata": {},
   "outputs": [
    {
     "name": "stdout",
     "output_type": "stream",
     "text": [
      "Help on built-in function abs in module builtins:\n",
      "\n",
      "abs(x, /)\n",
      "    Return the absolute value of the argument.\n",
      "\n",
      "89 0 147\n"
     ]
    },
    {
     "data": {
      "text/plain": [
       "(4, 0)"
      ]
     },
     "execution_count": 53,
     "metadata": {},
     "output_type": "execute_result"
    }
   ],
   "source": [
    "list1 = [1,2,3,45,7,89,0]\n",
    "help(abs)  #\n",
    "abs(-1) #Return the absolute value of the argument.\n",
    "print(max(list1),min(list1),sum(list1))\n",
    "sorted(list1) # \n",
    "len(list1)\n",
    "round(3.1415926,4) #get the float number in fixed length\n",
    "divmod(12,3) #return the division and remainer  (x//y, x%y) "
   ]
  },
  {
   "cell_type": "code",
   "execution_count": 54,
   "metadata": {},
   "outputs": [
    {
     "data": {
      "text/plain": [
       "[1, 1, 2, 3, 5, 8, 13, 21, 34, 55]"
      ]
     },
     "execution_count": 54,
     "metadata": {},
     "output_type": "execute_result"
    }
   ],
   "source": [
    "#1Fibonacci sequence is a sequence like this：[0, 1, 1, 2, 3, 5, 8, 13, 21, 34, 55....]\n",
    "#That means F[a] = F[a-1] + F[a-2], Try to get the top 5 values in Fibonacci sequence \n",
    "#F0 = 0     (n=0)    #F1 = 1    (n=1)      #Fn = F[n-1]+ F[n-2](n=>2)\n",
    "#[1, 1, 2, 3, 5, 8, 13, 21, 34, 55, 89, ....]  \n",
    "def fib(n):\n",
    "    if n==1:\n",
    "        return [1]\n",
    "    if n==2:\n",
    "        return [1,1]\n",
    "    fibs = [1,1] # fibs.append\n",
    "    for i in range(2,n):\n",
    "        fibs.append(fibs[-1]+fibs[-2])\n",
    "    return fibs\n",
    "fib(10)"
   ]
  },
  {
   "cell_type": "code",
   "execution_count": 59,
   "metadata": {},
   "outputs": [
    {
     "name": "stdout",
     "output_type": "stream",
     "text": [
      "[4, 6]\n"
     ]
    },
    {
     "data": {
      "text/plain": [
       "[(0, 0), (0, 1), (0, 2), (1, 0), (1, 1), (1, 2), (2, 0), (2, 1), (2, 2)]"
      ]
     },
     "execution_count": 59,
     "metadata": {},
     "output_type": "execute_result"
    }
   ],
   "source": [
    "#line function  [expression1 for k in if expression2]\n",
    "list2 = [1,2,3,4,5]\n",
    "a = [k+2 for k in list2 if k%2==0]\n",
    "print(a)\n",
    "[(x,y) for x in range(3) for y in range(3)] #more limitation"
   ]
  },
  {
   "cell_type": "code",
   "execution_count": 62,
   "metadata": {},
   "outputs": [
    {
     "data": {
      "text/plain": [
       "[1, 5, 9, 15]"
      ]
     },
     "execution_count": 62,
     "metadata": {},
     "output_type": "execute_result"
    }
   ],
   "source": [
    "#filter get each of element in list and assign to function, \n",
    "#it can be used to filter list then return the result as a new list\n",
    "def is_odd(n):\n",
    "    return n%2 ==1\n",
    "list(filter(is_odd,[1,2,4,5,6,9,15]))"
   ]
  },
  {
   "cell_type": "code",
   "execution_count": 64,
   "metadata": {},
   "outputs": [
    {
     "data": {
      "text/plain": [
       "[True, False, False, True, False, True, True]"
      ]
     },
     "execution_count": 64,
     "metadata": {},
     "output_type": "execute_result"
    }
   ],
   "source": [
    "#filter get each of element in list and assign to function, \n",
    "#it can be used to filter list then return the result as a new list\n",
    "def is_odd(n):\n",
    "    return n%2 ==1\n",
    "list(map(is_odd,[1,2,4,5,6,9,15]))"
   ]
  },
  {
   "cell_type": "code",
   "execution_count": 66,
   "metadata": {},
   "outputs": [
    {
     "data": {
      "text/plain": [
       "10"
      ]
     },
     "execution_count": 66,
     "metadata": {},
     "output_type": "execute_result"
    }
   ],
   "source": [
    "from functools import reduce\n",
    "def add(x,y):\n",
    "    return x+y\n",
    "reduce(add,[1,2,3,4]) # add(1,2) = add(3,3) = add(6,4)"
   ]
  }
 ],
 "metadata": {
  "kernelspec": {
   "display_name": "Python 3",
   "language": "python",
   "name": "python3"
  },
  "language_info": {
   "codemirror_mode": {
    "name": "ipython",
    "version": 3
   },
   "file_extension": ".py",
   "mimetype": "text/x-python",
   "name": "python",
   "nbconvert_exporter": "python",
   "pygments_lexer": "ipython3",
   "version": "3.8.5"
  }
 },
 "nbformat": 4,
 "nbformat_minor": 4
}
